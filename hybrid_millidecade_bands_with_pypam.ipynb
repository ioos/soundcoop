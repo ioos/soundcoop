{
 "cells": [
  {
   "cell_type": "markdown",
   "id": "2dea1b7d-b275-4ff8-8290-115d1e4e58d1",
   "metadata": {},
   "source": [
    "# Pypam"
   ]
  },
  {
   "cell_type": "markdown",
   "id": "1b4a79f3-a9ee-4830-9377-00051a94415d",
   "metadata": {
    "tags": []
   },
   "source": [
    "## 0. Setup"
   ]
  },
  {
   "cell_type": "code",
   "execution_count": 1,
   "id": "733ea265-8309-4506-bc95-2c4ded1c132d",
   "metadata": {
    "scrolled": true,
    "tags": []
   },
   "outputs": [
    {
     "name": "stdout",
     "output_type": "stream",
     "text": [
      "Requirement already satisfied: pvlib in /opt/conda/lib/python3.10/site-packages (0.10.1)\n",
      "Requirement already satisfied: numpy>=1.16.0 in /opt/conda/lib/python3.10/site-packages (from pvlib) (1.24.4)\n",
      "Requirement already satisfied: pytz in /opt/conda/lib/python3.10/site-packages (from pvlib) (2023.3.post1)\n",
      "Requirement already satisfied: pandas>=0.25.0 in /opt/conda/lib/python3.10/site-packages (from pvlib) (2.1.1)\n",
      "Requirement already satisfied: requests in /opt/conda/lib/python3.10/site-packages (from pvlib) (2.31.0)\n",
      "Requirement already satisfied: h5py in /opt/conda/lib/python3.10/site-packages (from pvlib) (3.9.0)\n",
      "Requirement already satisfied: scipy>=1.4.0 in /opt/conda/lib/python3.10/site-packages (from pvlib) (1.10.0)\n",
      "Requirement already satisfied: tzdata>=2022.1 in /opt/conda/lib/python3.10/site-packages (from pandas>=0.25.0->pvlib) (2023.3)\n",
      "Requirement already satisfied: python-dateutil>=2.8.2 in /opt/conda/lib/python3.10/site-packages (from pandas>=0.25.0->pvlib) (2.8.2)\n",
      "Requirement already satisfied: charset-normalizer<4,>=2 in /opt/conda/lib/python3.10/site-packages (from requests->pvlib) (2.1.1)\n",
      "Requirement already satisfied: urllib3<3,>=1.21.1 in /opt/conda/lib/python3.10/site-packages (from requests->pvlib) (1.26.11)\n",
      "Requirement already satisfied: idna<4,>=2.5 in /opt/conda/lib/python3.10/site-packages (from requests->pvlib) (3.4)\n",
      "Requirement already satisfied: certifi>=2017.4.17 in /opt/conda/lib/python3.10/site-packages (from requests->pvlib) (2023.7.22)\n",
      "Requirement already satisfied: six>=1.5 in /opt/conda/lib/python3.10/site-packages (from python-dateutil>=2.8.2->pandas>=0.25.0->pvlib) (1.16.0)\n",
      "Found existing installation: lifewatch-pypam 0.2.1\n",
      "Uninstalling lifewatch-pypam-0.2.1:\n",
      "  Successfully uninstalled lifewatch-pypam-0.2.1\n",
      "Collecting git+https://github.com/lifewatch/pypam.git@fix/aggregation_plots\n",
      "  Cloning https://github.com/lifewatch/pypam.git (to revision fix/aggregation_plots) to /tmp/pip-req-build-ru9hk5s0\n",
      "  Running command git clone --filter=blob:none --quiet https://github.com/lifewatch/pypam.git /tmp/pip-req-build-ru9hk5s0\n",
      "  Running command git checkout -b fix/aggregation_plots --track origin/fix/aggregation_plots\n",
      "  Switched to a new branch 'fix/aggregation_plots'\n",
      "  branch 'fix/aggregation_plots' set up to track 'origin/fix/aggregation_plots'.\n",
      "  Resolved https://github.com/lifewatch/pypam.git to commit bd99aca92c0f67eefe453e46f6e26811ff765007\n",
      "  Installing build dependencies ... \u001b[?25ldone\n",
      "\u001b[?25h  Getting requirements to build wheel ... \u001b[?25ldone\n",
      "\u001b[?25h  Preparing metadata (pyproject.toml) ... \u001b[?25ldone\n",
      "\u001b[?25hRequirement already satisfied: pandas<3.0.0,>=2.0.2 in /opt/conda/lib/python3.10/site-packages (from lifewatch-pypam==0.2.1) (2.1.1)\n",
      "Requirement already satisfied: numba<0.58.0,>=0.57.0 in /opt/conda/lib/python3.10/site-packages (from lifewatch-pypam==0.2.1) (0.57.1)\n",
      "Requirement already satisfied: poetry<2.0.0,>=1.5.0 in /opt/conda/lib/python3.10/site-packages (from lifewatch-pypam==0.2.1) (1.6.1)\n",
      "Requirement already satisfied: setuptools<69.0.0,>=68.1.0 in /opt/conda/lib/python3.10/site-packages (from lifewatch-pypam==0.2.1) (68.2.2)\n",
      "Requirement already satisfied: dask<2024.0.0,>=2023.9.3 in /opt/conda/lib/python3.10/site-packages (from lifewatch-pypam==0.2.1) (2023.10.0)\n",
      "Requirement already satisfied: seaborn==0.13.0 in /opt/conda/lib/python3.10/site-packages (from lifewatch-pypam==0.2.1) (0.13.0)\n",
      "Requirement already satisfied: certifi<2024.0.0,>=2023.7.22 in /opt/conda/lib/python3.10/site-packages (from lifewatch-pypam==0.2.1) (2023.7.22)\n",
      "Requirement already satisfied: numpy<2.0.0,>=1.24.3 in /opt/conda/lib/python3.10/site-packages (from lifewatch-pypam==0.2.1) (1.24.4)\n",
      "Requirement already satisfied: scikit-maad<2.0.0,>=1.4.0 in /opt/conda/lib/python3.10/site-packages (from lifewatch-pypam==0.2.1) (1.4.0)\n",
      "Requirement already satisfied: scikit-learn<2.0.0,>=1.2.2 in /opt/conda/lib/python3.10/site-packages (from lifewatch-pypam==0.2.1) (1.3.0)\n",
      "Requirement already satisfied: pyhydrophone<0.2.0,>=0.1.7 in /opt/conda/lib/python3.10/site-packages (from lifewatch-pypam==0.2.1) (0.1.7)\n",
      "Requirement already satisfied: python-dateutil<3.0.0,>=2.8.2 in /opt/conda/lib/python3.10/site-packages (from lifewatch-pypam==0.2.1) (2.8.2)\n",
      "Requirement already satisfied: xarray==2023.8.0 in /opt/conda/lib/python3.10/site-packages (from lifewatch-pypam==0.2.1) (2023.8.0)\n",
      "Requirement already satisfied: netcdf4<2.0.0,>=1.6.4 in /opt/conda/lib/python3.10/site-packages (from lifewatch-pypam==0.2.1) (1.6.4)\n",
      "Requirement already satisfied: tqdm<5.0.0,>=4.65.0 in /opt/conda/lib/python3.10/site-packages (from lifewatch-pypam==0.2.1) (4.66.1)\n",
      "Requirement already satisfied: matplotlib<4.0.0,>=3.7.1 in /opt/conda/lib/python3.10/site-packages (from lifewatch-pypam==0.2.1) (3.7.2)\n",
      "Requirement already satisfied: openpyxl<4.0.0,>=3.1.2 in /opt/conda/lib/python3.10/site-packages (from lifewatch-pypam==0.2.1) (3.1.2)\n",
      "Requirement already satisfied: cryptography<42.0.0,>=41.0.2 in /opt/conda/lib/python3.10/site-packages (from lifewatch-pypam==0.2.1) (41.0.3)\n",
      "Requirement already satisfied: syrupy<5.0.0,>=4.0.4 in /opt/conda/lib/python3.10/site-packages (from lifewatch-pypam==0.2.1) (4.0.6)\n",
      "Requirement already satisfied: noisereduce<3.0.0,>=2.0.1 in /opt/conda/lib/python3.10/site-packages (from lifewatch-pypam==0.2.1) (2.0.1)\n",
      "Requirement already satisfied: soundfile<0.13.0,>=0.12.1 in /opt/conda/lib/python3.10/site-packages (from lifewatch-pypam==0.2.1) (0.12.1)\n",
      "Requirement already satisfied: packaging>=21.3 in /opt/conda/lib/python3.10/site-packages (from xarray==2023.8.0->lifewatch-pypam==0.2.1) (23.2)\n",
      "Requirement already satisfied: cffi>=1.12 in /opt/conda/lib/python3.10/site-packages (from cryptography<42.0.0,>=41.0.2->lifewatch-pypam==0.2.1) (1.15.1)\n",
      "Requirement already satisfied: fsspec>=2021.09.0 in /opt/conda/lib/python3.10/site-packages (from dask<2024.0.0,>=2023.9.3->lifewatch-pypam==0.2.1) (2023.9.0)\n",
      "Requirement already satisfied: partd>=1.2.0 in /opt/conda/lib/python3.10/site-packages (from dask<2024.0.0,>=2023.9.3->lifewatch-pypam==0.2.1) (1.4.0)\n",
      "Requirement already satisfied: click>=8.0 in /opt/conda/lib/python3.10/site-packages (from dask<2024.0.0,>=2023.9.3->lifewatch-pypam==0.2.1) (8.1.7)\n",
      "Requirement already satisfied: pyyaml>=5.3.1 in /opt/conda/lib/python3.10/site-packages (from dask<2024.0.0,>=2023.9.3->lifewatch-pypam==0.2.1) (6.0)\n",
      "Requirement already satisfied: cloudpickle>=1.5.0 in /opt/conda/lib/python3.10/site-packages (from dask<2024.0.0,>=2023.9.3->lifewatch-pypam==0.2.1) (2.2.1)\n",
      "Requirement already satisfied: toolz>=0.10.0 in /opt/conda/lib/python3.10/site-packages (from dask<2024.0.0,>=2023.9.3->lifewatch-pypam==0.2.1) (0.12.0)\n",
      "Requirement already satisfied: importlib-metadata>=4.13.0 in /opt/conda/lib/python3.10/site-packages (from dask<2024.0.0,>=2023.9.3->lifewatch-pypam==0.2.1) (6.8.0)\n",
      "Requirement already satisfied: contourpy>=1.0.1 in /opt/conda/lib/python3.10/site-packages (from matplotlib<4.0.0,>=3.7.1->lifewatch-pypam==0.2.1) (1.1.0)\n",
      "Requirement already satisfied: pillow>=6.2.0 in /opt/conda/lib/python3.10/site-packages (from matplotlib<4.0.0,>=3.7.1->lifewatch-pypam==0.2.1) (10.0.0)\n",
      "Requirement already satisfied: kiwisolver>=1.0.1 in /opt/conda/lib/python3.10/site-packages (from matplotlib<4.0.0,>=3.7.1->lifewatch-pypam==0.2.1) (1.4.5)\n",
      "Requirement already satisfied: cycler>=0.10 in /opt/conda/lib/python3.10/site-packages (from matplotlib<4.0.0,>=3.7.1->lifewatch-pypam==0.2.1) (0.11.0)\n",
      "Requirement already satisfied: fonttools>=4.22.0 in /opt/conda/lib/python3.10/site-packages (from matplotlib<4.0.0,>=3.7.1->lifewatch-pypam==0.2.1) (4.42.1)\n",
      "Requirement already satisfied: pyparsing<3.1,>=2.3.1 in /opt/conda/lib/python3.10/site-packages (from matplotlib<4.0.0,>=3.7.1->lifewatch-pypam==0.2.1) (3.0.9)\n",
      "Requirement already satisfied: cftime in /opt/conda/lib/python3.10/site-packages (from netcdf4<2.0.0,>=1.6.4->lifewatch-pypam==0.2.1) (1.6.2)\n",
      "Requirement already satisfied: scipy in /opt/conda/lib/python3.10/site-packages (from noisereduce<3.0.0,>=2.0.1->lifewatch-pypam==0.2.1) (1.10.0)\n",
      "Requirement already satisfied: librosa in /opt/conda/lib/python3.10/site-packages (from noisereduce<3.0.0,>=2.0.1->lifewatch-pypam==0.2.1) (0.10.1)\n",
      "Requirement already satisfied: llvmlite<0.41,>=0.40.0dev0 in /opt/conda/lib/python3.10/site-packages (from numba<0.58.0,>=0.57.0->lifewatch-pypam==0.2.1) (0.40.1)\n",
      "Requirement already satisfied: et-xmlfile in /opt/conda/lib/python3.10/site-packages (from openpyxl<4.0.0,>=3.1.2->lifewatch-pypam==0.2.1) (1.1.0)\n",
      "Requirement already satisfied: pytz>=2020.1 in /opt/conda/lib/python3.10/site-packages (from pandas<3.0.0,>=2.0.2->lifewatch-pypam==0.2.1) (2023.3.post1)\n",
      "Requirement already satisfied: tzdata>=2022.1 in /opt/conda/lib/python3.10/site-packages (from pandas<3.0.0,>=2.0.2->lifewatch-pypam==0.2.1) (2023.3)\n",
      "Requirement already satisfied: platformdirs<4.0.0,>=3.0.0 in /opt/conda/lib/python3.10/site-packages (from poetry<2.0.0,>=1.5.0->lifewatch-pypam==0.2.1) (3.11.0)\n",
      "Requirement already satisfied: requests<3.0,>=2.26 in /opt/conda/lib/python3.10/site-packages (from poetry<2.0.0,>=1.5.0->lifewatch-pypam==0.2.1) (2.31.0)\n",
      "Requirement already satisfied: poetry-plugin-export<2.0.0,>=1.5.0 in /opt/conda/lib/python3.10/site-packages (from poetry<2.0.0,>=1.5.0->lifewatch-pypam==0.2.1) (1.5.0)\n",
      "Requirement already satisfied: cleo<3.0.0,>=2.0.0 in /opt/conda/lib/python3.10/site-packages (from poetry<2.0.0,>=1.5.0->lifewatch-pypam==0.2.1) (2.0.1)\n",
      "Requirement already satisfied: poetry-core==1.7.0 in /opt/conda/lib/python3.10/site-packages (from poetry<2.0.0,>=1.5.0->lifewatch-pypam==0.2.1) (1.7.0)\n",
      "Requirement already satisfied: tomlkit<1.0.0,>=0.11.4 in /opt/conda/lib/python3.10/site-packages (from poetry<2.0.0,>=1.5.0->lifewatch-pypam==0.2.1) (0.12.1)\n",
      "Requirement already satisfied: build<0.11.0,>=0.10.0 in /opt/conda/lib/python3.10/site-packages (from poetry<2.0.0,>=1.5.0->lifewatch-pypam==0.2.1) (0.10.0)\n",
      "Requirement already satisfied: installer<0.8.0,>=0.7.0 in /opt/conda/lib/python3.10/site-packages (from poetry<2.0.0,>=1.5.0->lifewatch-pypam==0.2.1) (0.7.0)\n",
      "Requirement already satisfied: pexpect<5.0.0,>=4.7.0 in /opt/conda/lib/python3.10/site-packages (from poetry<2.0.0,>=1.5.0->lifewatch-pypam==0.2.1) (4.8.0)\n",
      "Requirement already satisfied: pkginfo<2.0.0,>=1.9.4 in /opt/conda/lib/python3.10/site-packages (from poetry<2.0.0,>=1.5.0->lifewatch-pypam==0.2.1) (1.9.6)\n",
      "Requirement already satisfied: requests-toolbelt<2,>=0.9.1 in /opt/conda/lib/python3.10/site-packages (from poetry<2.0.0,>=1.5.0->lifewatch-pypam==0.2.1) (1.0.0)\n",
      "Requirement already satisfied: trove-classifiers>=2022.5.19 in /opt/conda/lib/python3.10/site-packages (from poetry<2.0.0,>=1.5.0->lifewatch-pypam==0.2.1) (2023.9.19)\n",
      "Requirement already satisfied: cachecontrol[filecache]<0.14.0,>=0.13.0 in /opt/conda/lib/python3.10/site-packages (from poetry<2.0.0,>=1.5.0->lifewatch-pypam==0.2.1) (0.13.1)\n",
      "Requirement already satisfied: shellingham<2.0,>=1.5 in /opt/conda/lib/python3.10/site-packages (from poetry<2.0.0,>=1.5.0->lifewatch-pypam==0.2.1) (1.5.3)\n",
      "Requirement already satisfied: crashtest<0.5.0,>=0.4.1 in /opt/conda/lib/python3.10/site-packages (from poetry<2.0.0,>=1.5.0->lifewatch-pypam==0.2.1) (0.4.1)\n",
      "Requirement already satisfied: keyring<25.0.0,>=24.0.0 in /opt/conda/lib/python3.10/site-packages (from poetry<2.0.0,>=1.5.0->lifewatch-pypam==0.2.1) (24.2.0)\n",
      "Requirement already satisfied: dulwich<0.22.0,>=0.21.2 in /opt/conda/lib/python3.10/site-packages (from poetry<2.0.0,>=1.5.0->lifewatch-pypam==0.2.1) (0.21.6)\n",
      "Requirement already satisfied: virtualenv<21.0.0,>=20.22.0 in /opt/conda/lib/python3.10/site-packages (from poetry<2.0.0,>=1.5.0->lifewatch-pypam==0.2.1) (20.24.5)\n",
      "Requirement already satisfied: pyproject-hooks<2.0.0,>=1.0.0 in /opt/conda/lib/python3.10/site-packages (from poetry<2.0.0,>=1.5.0->lifewatch-pypam==0.2.1) (1.0.0)\n",
      "Requirement already satisfied: jsonschema<4.18.0,>=4.10.0 in /opt/conda/lib/python3.10/site-packages (from poetry<2.0.0,>=1.5.0->lifewatch-pypam==0.2.1) (4.17.3)\n",
      "Requirement already satisfied: tomli<3.0.0,>=2.0.1 in /opt/conda/lib/python3.10/site-packages (from poetry<2.0.0,>=1.5.0->lifewatch-pypam==0.2.1) (2.0.1)\n",
      "Requirement already satisfied: python-dotenv<2.0.0,>=1.0.0 in /opt/conda/lib/python3.10/site-packages (from pyhydrophone<0.2.0,>=0.1.7->lifewatch-pypam==0.2.1) (1.0.0)\n",
      "Requirement already satisfied: pytest<8.0.0,>=7.3.1 in /opt/conda/lib/python3.10/site-packages (from pyhydrophone<0.2.0,>=0.1.7->lifewatch-pypam==0.2.1) (7.4.0)\n",
      "Requirement already satisfied: coverage<8.0.0,>=7.2.5 in /opt/conda/lib/python3.10/site-packages (from pyhydrophone<0.2.0,>=0.1.7->lifewatch-pypam==0.2.1) (7.3.2)\n",
      "Requirement already satisfied: pytest-cov<5.0.0,>=4.1.0 in /opt/conda/lib/python3.10/site-packages (from pyhydrophone<0.2.0,>=0.1.7->lifewatch-pypam==0.2.1) (4.1.0)\n",
      "Requirement already satisfied: six>=1.5 in /opt/conda/lib/python3.10/site-packages (from python-dateutil<3.0.0,>=2.8.2->lifewatch-pypam==0.2.1) (1.16.0)\n",
      "Requirement already satisfied: threadpoolctl>=2.0.0 in /opt/conda/lib/python3.10/site-packages (from scikit-learn<2.0.0,>=1.2.2->lifewatch-pypam==0.2.1) (3.2.0)\n",
      "Requirement already satisfied: joblib>=1.1.1 in /opt/conda/lib/python3.10/site-packages (from scikit-learn<2.0.0,>=1.2.2->lifewatch-pypam==0.2.1) (1.3.2)\n",
      "Requirement already satisfied: resampy>=0.4 in /opt/conda/lib/python3.10/site-packages (from scikit-maad<2.0.0,>=1.4.0->lifewatch-pypam==0.2.1) (0.4.2)\n",
      "Requirement already satisfied: scikit-image>=0.19 in /opt/conda/lib/python3.10/site-packages (from scikit-maad<2.0.0,>=1.4.0->lifewatch-pypam==0.2.1) (0.22.0)\n",
      "Requirement already satisfied: colored<2.0.0,>=1.3.92 in /opt/conda/lib/python3.10/site-packages (from syrupy<5.0.0,>=4.0.4->lifewatch-pypam==0.2.1) (1.4.4)\n",
      "Requirement already satisfied: msgpack>=0.5.2 in /opt/conda/lib/python3.10/site-packages (from cachecontrol[filecache]<0.14.0,>=0.13.0->poetry<2.0.0,>=1.5.0->lifewatch-pypam==0.2.1) (1.0.5)\n",
      "Requirement already satisfied: filelock>=3.8.0 in /opt/conda/lib/python3.10/site-packages (from cachecontrol[filecache]<0.14.0,>=0.13.0->poetry<2.0.0,>=1.5.0->lifewatch-pypam==0.2.1) (3.12.4)\n",
      "Requirement already satisfied: pycparser in /opt/conda/lib/python3.10/site-packages (from cffi>=1.12->cryptography<42.0.0,>=41.0.2->lifewatch-pypam==0.2.1) (2.21)\n",
      "Requirement already satisfied: rapidfuzz<3.0.0,>=2.2.0 in /opt/conda/lib/python3.10/site-packages (from cleo<3.0.0,>=2.0.0->poetry<2.0.0,>=1.5.0->lifewatch-pypam==0.2.1) (2.15.2)\n",
      "Requirement already satisfied: urllib3>=1.25 in /opt/conda/lib/python3.10/site-packages (from dulwich<0.22.0,>=0.21.2->poetry<2.0.0,>=1.5.0->lifewatch-pypam==0.2.1) (1.26.11)\n",
      "Requirement already satisfied: zipp>=0.5 in /opt/conda/lib/python3.10/site-packages (from importlib-metadata>=4.13.0->dask<2024.0.0,>=2023.9.3->lifewatch-pypam==0.2.1) (3.9.0)\n",
      "Requirement already satisfied: pyrsistent!=0.17.0,!=0.17.1,!=0.17.2,>=0.14.0 in /opt/conda/lib/python3.10/site-packages (from jsonschema<4.18.0,>=4.10.0->poetry<2.0.0,>=1.5.0->lifewatch-pypam==0.2.1) (0.18.1)\n",
      "Requirement already satisfied: attrs>=17.4.0 in /opt/conda/lib/python3.10/site-packages (from jsonschema<4.18.0,>=4.10.0->poetry<2.0.0,>=1.5.0->lifewatch-pypam==0.2.1) (22.1.0)\n",
      "Requirement already satisfied: SecretStorage>=3.2 in /opt/conda/lib/python3.10/site-packages (from keyring<25.0.0,>=24.0.0->poetry<2.0.0,>=1.5.0->lifewatch-pypam==0.2.1) (3.3.3)\n",
      "Requirement already satisfied: jaraco.classes in /opt/conda/lib/python3.10/site-packages (from keyring<25.0.0,>=24.0.0->poetry<2.0.0,>=1.5.0->lifewatch-pypam==0.2.1) (3.3.0)\n",
      "Requirement already satisfied: jeepney>=0.4.2 in /opt/conda/lib/python3.10/site-packages (from keyring<25.0.0,>=24.0.0->poetry<2.0.0,>=1.5.0->lifewatch-pypam==0.2.1) (0.8.0)\n",
      "Requirement already satisfied: locket in /opt/conda/lib/python3.10/site-packages (from partd>=1.2.0->dask<2024.0.0,>=2023.9.3->lifewatch-pypam==0.2.1) (1.0.0)\n",
      "Requirement already satisfied: ptyprocess>=0.5 in /opt/conda/lib/python3.10/site-packages (from pexpect<5.0.0,>=4.7.0->poetry<2.0.0,>=1.5.0->lifewatch-pypam==0.2.1) (0.7.0)\n",
      "Requirement already satisfied: iniconfig in /opt/conda/lib/python3.10/site-packages (from pytest<8.0.0,>=7.3.1->pyhydrophone<0.2.0,>=0.1.7->lifewatch-pypam==0.2.1) (2.0.0)\n",
      "Requirement already satisfied: pluggy<2.0,>=0.12 in /opt/conda/lib/python3.10/site-packages (from pytest<8.0.0,>=7.3.1->pyhydrophone<0.2.0,>=0.1.7->lifewatch-pypam==0.2.1) (1.3.0)\n",
      "Requirement already satisfied: exceptiongroup>=1.0.0rc8 in /opt/conda/lib/python3.10/site-packages (from pytest<8.0.0,>=7.3.1->pyhydrophone<0.2.0,>=0.1.7->lifewatch-pypam==0.2.1) (1.1.3)\n",
      "Requirement already satisfied: idna<4,>=2.5 in /opt/conda/lib/python3.10/site-packages (from requests<3.0,>=2.26->poetry<2.0.0,>=1.5.0->lifewatch-pypam==0.2.1) (3.4)\n",
      "Requirement already satisfied: charset-normalizer<4,>=2 in /opt/conda/lib/python3.10/site-packages (from requests<3.0,>=2.26->poetry<2.0.0,>=1.5.0->lifewatch-pypam==0.2.1) (2.1.1)\n",
      "Requirement already satisfied: imageio>=2.27 in /opt/conda/lib/python3.10/site-packages (from scikit-image>=0.19->scikit-maad<2.0.0,>=1.4.0->lifewatch-pypam==0.2.1) (2.31.1)\n",
      "Requirement already satisfied: networkx>=2.8 in /opt/conda/lib/python3.10/site-packages (from scikit-image>=0.19->scikit-maad<2.0.0,>=1.4.0->lifewatch-pypam==0.2.1) (3.1)\n",
      "Requirement already satisfied: tifffile>=2022.8.12 in /opt/conda/lib/python3.10/site-packages (from scikit-image>=0.19->scikit-maad<2.0.0,>=1.4.0->lifewatch-pypam==0.2.1) (2023.9.26)\n",
      "Requirement already satisfied: lazy_loader>=0.3 in /opt/conda/lib/python3.10/site-packages (from scikit-image>=0.19->scikit-maad<2.0.0,>=1.4.0->lifewatch-pypam==0.2.1) (0.3)\n",
      "Requirement already satisfied: distlib<1,>=0.3.7 in /opt/conda/lib/python3.10/site-packages (from virtualenv<21.0.0,>=20.22.0->poetry<2.0.0,>=1.5.0->lifewatch-pypam==0.2.1) (0.3.7)\n",
      "Requirement already satisfied: soxr>=0.3.2 in /opt/conda/lib/python3.10/site-packages (from librosa->noisereduce<3.0.0,>=2.0.1->lifewatch-pypam==0.2.1) (0.3.7)\n",
      "Requirement already satisfied: audioread>=2.1.9 in /opt/conda/lib/python3.10/site-packages (from librosa->noisereduce<3.0.0,>=2.0.1->lifewatch-pypam==0.2.1) (3.0.1)\n",
      "Requirement already satisfied: pooch>=1.0 in /opt/conda/lib/python3.10/site-packages (from librosa->noisereduce<3.0.0,>=2.0.1->lifewatch-pypam==0.2.1) (1.7.0)\n",
      "Requirement already satisfied: typing-extensions>=4.1.1 in /opt/conda/lib/python3.10/site-packages (from librosa->noisereduce<3.0.0,>=2.0.1->lifewatch-pypam==0.2.1) (4.4.0)\n",
      "Requirement already satisfied: decorator>=4.3.0 in /opt/conda/lib/python3.10/site-packages (from librosa->noisereduce<3.0.0,>=2.0.1->lifewatch-pypam==0.2.1) (5.1.1)\n",
      "Requirement already satisfied: more-itertools in /opt/conda/lib/python3.10/site-packages (from jaraco.classes->keyring<25.0.0,>=24.0.0->poetry<2.0.0,>=1.5.0->lifewatch-pypam==0.2.1) (10.1.0)\n",
      "Building wheels for collected packages: lifewatch-pypam\n",
      "  Building wheel for lifewatch-pypam (pyproject.toml) ... \u001b[?25ldone\n",
      "\u001b[?25h  Created wheel for lifewatch-pypam: filename=lifewatch_pypam-0.2.1-py3-none-any.whl size=63340 sha256=6db9bb4e11c4002846b90dea654297b1b6aba6bd0925c725a159321a8a4fed0a\n",
      "  Stored in directory: /tmp/pip-ephem-wheel-cache-o300nf9c/wheels/1a/36/62/7c8f8ac90d065668f9a11d9c726487a7c29285e7c723d6b4ed\n",
      "Successfully built lifewatch-pypam\n",
      "Installing collected packages: lifewatch-pypam\n",
      "Successfully installed lifewatch-pypam-0.2.1\n",
      "Requirement already satisfied: minio in /opt/conda/lib/python3.10/site-packages (7.1.17)\n",
      "Requirement already satisfied: certifi in /opt/conda/lib/python3.10/site-packages (from minio) (2023.7.22)\n",
      "Requirement already satisfied: urllib3 in /opt/conda/lib/python3.10/site-packages (from minio) (1.26.11)\n"
     ]
    }
   ],
   "source": [
    "import sys\n",
    "sys.path = ['.'] + sys.path\n",
    "!pip install pvlib\n",
    "!pip uninstall lifewatch-pypam -y\n",
    "!pip install git+https://github.com/lifewatch/pypam.git@fix/aggregation_plots\n",
    "!pip install minio"
   ]
  },
  {
   "cell_type": "markdown",
   "id": "325d18bc-8a4a-46f4-aa19-65eb34b38a7e",
   "metadata": {
    "jp-MarkdownHeadingCollapsed": true,
    "tags": []
   },
   "source": [
    "## 1. Download the data"
   ]
  },
  {
   "cell_type": "code",
   "execution_count": null,
   "id": "cab776ec-2e9f-4876-bf59-69d4f0af6e6b",
   "metadata": {
    "tags": []
   },
   "outputs": [],
   "source": [
    "from minio import Minio\n",
    "from pathlib import Path\n",
    "import os.path\n",
    "from tqdm import tqdm"
   ]
  },
  {
   "cell_type": "code",
   "execution_count": null,
   "id": "b3801bfb-b51b-4476-b737-a1d7e757a3c5",
   "metadata": {
    "tags": []
   },
   "outputs": [],
   "source": [
    "client = Minio('storage.googleapis.com')\n",
    "bucket = 'noaa-passive-bioacoustic'\n",
    "prefix = 'soundcoop'\n",
    "stations_to_download = ['ARKF05', 'BOEM-VA', 'SB01', 'SB03', 'PManan', 'Monh', 'NRS11', 'NRS01']"
   ]
  },
  {
   "cell_type": "markdown",
   "id": "636a5127-e3c3-4ce0-8213-e2a685f9dfd4",
   "metadata": {},
   "source": [
    "First, the netcdf files (the data product)"
   ]
  },
  {
   "cell_type": "code",
   "execution_count": null,
   "id": "2a4ad259-bea3-47fe-a038-5505f7fa898f",
   "metadata": {
    "tags": []
   },
   "outputs": [],
   "source": [
    "# Make the main storage folder\n",
    "local_path = 'readonly/data/'\n",
    "if not os.path.isdir(local_path):\n",
    "    Path(local_path).mkdir()\n",
    "\n",
    "local_path_audio = 'readonly/flac_data/'\n",
    "if not os.path.isdir(local_path_audio):\n",
    "    Path(local_path_audio).mkdir()\n",
    "\n",
    "for station in stations_to_download + ['MARS']:\n",
    "    station_path = Path(local_path).joinpath(station)\n",
    "    if not os.path.isdir(station_path):\n",
    "        Path(station_path).mkdir()"
   ]
  },
  {
   "cell_type": "code",
   "execution_count": null,
   "id": "fc88ba01-17b9-401c-aca3-c69e71c86bdf",
   "metadata": {
    "scrolled": true,
    "tags": []
   },
   "outputs": [],
   "source": [
    "for station_i, station in enumerate(stations_to_download):\n",
    "    print('downloading station %s/%s %s...' % (station_i + 1, len(stations_to_download), station))\n",
    "    objects = list(client.list_objects(bucket, prefix=prefix + '/' + station + '/'))\n",
    "    ct = len([entry for entry in os.listdir(local_path) if os.path.isfile(os.path.join(local_path, entry))])\n",
    "    # to download all files use \"for i, obj in enumerate(objects):\" below\n",
    "    for i, obj in enumerate(objects):\n",
    "        object_name = obj.object_name\n",
    "        path_name = Path(object_name).name\n",
    "        if not path_name.startswith('.') & path_name.endswith('.nc'):\n",
    "            download_path = local_path + '/' + station + '/' + Path(object_name).name\n",
    "            if os.path.isfile(download_path):\n",
    "                print('Already downloaded: ')\n",
    "                print(download_path)\n",
    "            else:\n",
    "                print('Download ' + str(ct) + ' of ' + str(len(objects)) + ': ' + download_path)\n",
    "                ct = ct + 1\n",
    "                object_data = client.get_object(bucket, object_name)\n",
    "                if not os.path.isdir(download_path):\n",
    "                    with open(str(download_path), 'wb') as file_data:\n",
    "                        for data in object_data:\n",
    "                            file_data.write(data)\n",
    "                file_data.close()"
   ]
  },
  {
   "cell_type": "markdown",
   "id": "53d8c854-5f3a-4236-80ab-84fe313ad9e6",
   "metadata": {},
   "source": [
    "We will also download some audio data to show how to process it"
   ]
  },
  {
   "cell_type": "code",
   "execution_count": null,
   "id": "98a495e0-0557-4097-9b3a-2c530a2eeadd",
   "metadata": {
    "scrolled": true,
    "tags": []
   },
   "outputs": [],
   "source": [
    "objects = list(client.list_objects(bucket, prefix='sanctsound/audio/sb03/sanctsound_sb03_14/audio/'))\n",
    "for i, obj in enumerate(objects):\n",
    "    object_name = obj.object_name\n",
    "    path_name = Path(object_name).name\n",
    "    ct = len([entry for entry in os.listdir(local_path_audio) if os.path.isfile(os.path.join(local_path_audio, entry))])\n",
    "    if not path_name.startswith('.') & path_name.endswith('.flac'):\n",
    "        if '_2101' in path_name:  # only get files from January\n",
    "            # rename the file to match SoundTrap's file naming convention\n",
    "            download_path = local_path_audio + '/' + '.'.join(Path(object_name).name.split('_')[-2:])\n",
    "            if os.path.isfile(download_path):\n",
    "                print('Already downloaded: ')\n",
    "                print(download_path)\n",
    "            else:\n",
    "                print('Download ' + str(ct) + ' of ' + str(len(objects)) + ': ' + download_path)\n",
    "                ct = ct + 1\n",
    "                object_data = client.get_object(bucket, object_name)\n",
    "                if not os.path.isdir(download_path):\n",
    "                    with open(str(download_path), 'wb') as file_data:\n",
    "                        for data in object_data:\n",
    "                            file_data.write(data)\n",
    "                file_data.close()"
   ]
  },
  {
   "cell_type": "markdown",
   "id": "4ced9a14-0b8f-408a-ac62-fe1ddfcbfc87",
   "metadata": {},
   "source": [
    "We will do the same for MARS data"
   ]
  },
  {
   "cell_type": "code",
   "execution_count": null,
   "id": "1cc7bff3-9018-4f12-ae68-17bf44c26ab7",
   "metadata": {
    "tags": []
   },
   "outputs": [],
   "source": [
    "client = Minio( \"s3.us-west-2.amazonaws.com\", secure=False)\n",
    "\n",
    "bucket = 'pacific-sound-spectra'\n",
    "prefix = '2021/'"
   ]
  },
  {
   "cell_type": "code",
   "execution_count": null,
   "id": "15f46b80-5a5a-42f3-a6e3-08ccb7ef54d4",
   "metadata": {
    "scrolled": true,
    "tags": []
   },
   "outputs": [],
   "source": [
    "station = 'MARS'\n",
    "objects = list(client.list_objects(bucket, prefix=prefix))\n",
    "ct = len([entry for entry in os.listdir(local_path) if os.path.isfile(os.path.join(local_path, entry))])\n",
    "for i, obj in enumerate(objects):\n",
    "    object_name = obj.object_name\n",
    "    path_name = Path(object_name).name\n",
    "    print(path_name)\n",
    "    if (not path_name.startswith('.')) & path_name.endswith('.nc'):\n",
    "        download_path = local_path + '/' + station + '/' + Path(object_name).name\n",
    "        if os.path.isfile(download_path):\n",
    "            print('Already downloaded: ')\n",
    "            print(download_path)\n",
    "        else:\n",
    "            print('Download ' + str(ct) + ' of ' + str(len(objects)) + ': ' + download_path)\n",
    "            ct = ct + 1\n",
    "            object_data = client.get_object(bucket, object_name)\n",
    "            if not os.path.isdir(download_path):\n",
    "                with open(str(download_path), 'wb') as file_data:\n",
    "                    for data in object_data:\n",
    "                        file_data.write(data)\n",
    "            file_data.close()"
   ]
  },
  {
   "cell_type": "markdown",
   "id": "6d5828ed-9598-4cd2-bff1-8b24985a1a73",
   "metadata": {
    "tags": []
   },
   "source": [
    "## 2. Import packages"
   ]
  },
  {
   "cell_type": "code",
   "execution_count": 2,
   "id": "4341c436-0002-4a6e-af0f-06a3463c00bb",
   "metadata": {
    "tags": []
   },
   "outputs": [],
   "source": [
    "%matplotlib widget\n",
    "import pathlib\n",
    "import numpy as np\n",
    "import xarray as xr\n",
    "import matplotlib.pyplot as plt\n",
    "import pyhydrophone as pyhy"
   ]
  },
  {
   "cell_type": "code",
   "execution_count": 3,
   "id": "37a6e0dc-4672-4fe0-b842-e538655f28f9",
   "metadata": {
    "tags": []
   },
   "outputs": [],
   "source": [
    "from pypam.acoustic_survey import ASA\n",
    "import pypam.utils\n",
    "import pypam.plots"
   ]
  },
  {
   "cell_type": "markdown",
   "id": "d4cfb726-0a05-42ee-a979-3a2da9f0e261",
   "metadata": {
    "jp-MarkdownHeadingCollapsed": true,
    "tags": []
   },
   "source": [
    "## 3. Work with audio files"
   ]
  },
  {
   "cell_type": "markdown",
   "id": "b7710e9a-17fa-42e9-b426-8b51a04da587",
   "metadata": {},
   "source": [
    "### First, provide all necessary metadata"
   ]
  },
  {
   "cell_type": "code",
   "execution_count": null,
   "id": "76420f78-0f45-428f-b5bc-3fbfc304ac5c",
   "metadata": {
    "tags": []
   },
   "outputs": [],
   "source": [
    "# Deployment folders (where the wavs are stored)\n",
    "folder_path_sb03 = pathlib.Path('./flac_files')\n",
    "\n",
    "# Rename the files so they match the SoundTrap format file naming\n"
   ]
  },
  {
   "cell_type": "markdown",
   "id": "a051d49f-1e7a-4c07-92b3-fe1b8b067a87",
   "metadata": {},
   "source": [
    "If we look at the metadata from SanctSound: [https://storage.googleapis.com/noaa-passive-bioacoustic/sanctsound/audio/sb03/sanctsound_sb03_14/metadata/SanctSound_SB03_14.json],\n",
    "we see that the data was collected using a SoundTrap 300, with ID 1677758490"
   ]
  },
  {
   "cell_type": "code",
   "execution_count": null,
   "id": "972a9026-36a7-4050-bf2e-dc7262145ef9",
   "metadata": {
    "tags": []
   },
   "outputs": [],
   "source": [
    "# Define the hydrophone as an object using pyhydrophone with all its associated metadata\n",
    "# pyhydrophone will retrieve the calibration information from the serial number\n",
    "hy = pyhy.SoundTrap(model='SoundTrap 300 STD', serial_number=1677758490, name='soundtrap')"
   ]
  },
  {
   "cell_type": "markdown",
   "id": "0a250dbd-ff5c-485d-bdc1-11ca62fee983",
   "metadata": {},
   "source": [
    "### Define a deployment object (acoustic survey)"
   ]
  },
  {
   "cell_type": "code",
   "execution_count": null,
   "id": "2d9e4c1e-2e5f-40e3-b93c-2aa1af4525ba",
   "metadata": {
    "tags": []
   },
   "outputs": [],
   "source": [
    "# Define the metadata parameters\n",
    "p_ref = 1.0\n",
    "binsize = 60.0\n",
    "bin_overlap = 0\n",
    "nfft = 48000\n",
    "fft_overlap = 0.5\n",
    "timezone = 'UTC'\n",
    "channel = 0\n",
    "calibration = -1\n",
    "dc_subtract = 1\n",
    "\n",
    "# Declare the objects\n",
    "asa = ASA(hydrophone=hy, folder_path=folder_path_sb03, extension='.flac', p_ref=p_ref, binsize=binsize, bin_overlap=bin_overlap, nfft=nfft, \n",
    "          fft_overlap=fft_overlap, timezone=timezone, channel=channel, calibration=calibration, dc_subtract=dc_subtract)"
   ]
  },
  {
   "cell_type": "markdown",
   "id": "a62ca110-607c-4600-9925-91b4e44caf9d",
   "metadata": {},
   "source": [
    "### Compute hybrid millidecade bands"
   ]
  },
  {
   "cell_type": "code",
   "execution_count": null,
   "id": "2710da47-d05d-4ffe-8460-499d68875f44",
   "metadata": {
    "scrolled": true,
    "tags": []
   },
   "outputs": [],
   "source": [
    "# Define the percentiles\n",
    "percentiles = [1, 50, 99]\n",
    "\n",
    "path_results = pathlib.Path('./flac_files/sb03_test.nc')\n",
    "# Compute the hybrid millidecade bands \n",
    "if not path_results.exists():\n",
    "    ds = asa.hybrid_millidecade_bands(db=True, method='density', band=(0, 24000), percentiles=percentiles)\n",
    "    ds.to_netcdf(path_results)\n",
    "    del ds  # Delete the variable to have more memory"
   ]
  },
  {
   "cell_type": "markdown",
   "id": "03580386-9675-4bfb-8c75-1eebd69383e0",
   "metadata": {},
   "source": [
    "We can then save the datasets we obtained as NETCDF files."
   ]
  },
  {
   "cell_type": "markdown",
   "id": "a926ab3a-88aa-4019-a596-15daf05bd534",
   "metadata": {
    "tags": []
   },
   "source": [
    "## 4. Let's look at the data"
   ]
  },
  {
   "cell_type": "markdown",
   "id": "ac412785-86e2-46a4-84ab-51641ea7cbac",
   "metadata": {},
   "source": [
    "We will imagine that we have already processed a long deployment instead of only a few file, and that we stored the output as daily netcdf files. These are the data we can find at [sanctsound](https://console.cloud.google.com/storage/browser/noaa-passive-bioacoustic/sanctsound?pageState=(%22StorageObjectListTable%22:(%22f%22:%22%255B%255D%22))&prefix=&forceOnObjectsSortingFiltering=false), daily millidecade bands. These data have just been downloaded in this notebook, and you can find them under the netcdf_sound_files folder, organized by station. "
   ]
  },
  {
   "cell_type": "markdown",
   "id": "5b83ada0-1c0b-4d68-8039-d5eed5612b20",
   "metadata": {},
   "source": [
    "Let's have a look at it!"
   ]
  },
  {
   "cell_type": "markdown",
   "id": "f6fc4b83-6813-41e8-95bf-0d5c0359bd8e",
   "metadata": {},
   "source": [
    "For example, we can start loading one daily file to see how it looks. You can click on the document sign or the database sign once the dataset is shown here below to get extra information. "
   ]
  },
  {
   "cell_type": "code",
   "execution_count": null,
   "id": "e0e7635f-fff3-4d79-934a-884ef9ab1bb3",
   "metadata": {
    "tags": []
   },
   "outputs": [],
   "source": [
    "# Select one of the daily files\n",
    "ds = xr.open_dataset('./readonly/data/SB03/SanctSound_SB03_14_1677758490.1.48000_20210127_DAILY_MILLIDEC_MinRes.nc')\n",
    "ds.close()"
   ]
  },
  {
   "cell_type": "code",
   "execution_count": null,
   "id": "6e9e80e9-2b2e-4f4e-8f81-20011213a978",
   "metadata": {
    "tags": []
   },
   "outputs": [],
   "source": [
    "ds"
   ]
  },
  {
   "cell_type": "markdown",
   "id": "85d74ba3-c05e-44df-93d5-b07928cbebe5",
   "metadata": {},
   "source": [
    "We can then plot the long-term spectrogram of this day, selecting only the frequencies that we are interested in"
   ]
  },
  {
   "cell_type": "code",
   "execution_count": null,
   "id": "2603e95d-b4fe-487b-bc99-e52f34423864",
   "metadata": {
    "tags": []
   },
   "outputs": [],
   "source": [
    "# Select the minimum and the maximum frequency\n",
    "min_freq = 10\n",
    "max_freq = 10000\n",
    "\n",
    "plt.rcParams.update({\n",
    "    \"text.usetex\": False,\n",
    "    \"font.family\": \"sans-serif\"\n",
    "})\n",
    "# Plot the LTSA of one day\n",
    "fig, ax = plt.subplots(figsize=(10, 5))\n",
    "ds = pypam.utils.select_frequency_range(ds, min_freq=min_freq, max_freq=max_freq, freq_coord='frequency')\n",
    "pypam.plots.plot_ltsa(ds=ds, data_var='psd', log=True, save_path=None, ax=ax, show=False, freq_coord='frequency',\n",
    "                      time_coord='time')\n",
    "plt.show()"
   ]
  },
  {
   "cell_type": "code",
   "execution_count": null,
   "id": "e7456e4f-6d7d-4194-acf1-810f82bf202f",
   "metadata": {
    "tags": []
   },
   "outputs": [],
   "source": [
    "plt.close()"
   ]
  },
  {
   "cell_type": "markdown",
   "id": "dac3de65-3415-4fa2-b1a4-8fd8f7338703",
   "metadata": {},
   "source": [
    "We can also specify the location and then the day/night patter will be shown. But then we need to install the pvblib package"
   ]
  },
  {
   "cell_type": "code",
   "execution_count": null,
   "id": "241d0c14-d703-48f6-9a77-38c2358a6623",
   "metadata": {
    "tags": []
   },
   "outputs": [],
   "source": [
    "# Lon, Lat\n",
    "min_psd = 35 # in db\n",
    "max_psd = 120 # in db\n",
    "h = 1 # in db\n",
    "percentiles = [1, 5, 10, 50, 90, 99]\n",
    "location = [-70.178607, 42.25541] # This is only for SB03, change the values if you change of station to plot\n",
    "pypam.plots.plot_summary_dataset(ds, percentiles, data_var='psd', time_coord='time', freq_coord='frequency',\n",
    "                                 min_val=min_psd, max_val=max_psd, show=True, log=True, save_path=None,\n",
    "                                 location=location)"
   ]
  },
  {
   "cell_type": "code",
   "execution_count": null,
   "id": "de453017-9c51-458c-836c-5277ef6f1ab3",
   "metadata": {
    "tags": []
   },
   "outputs": [],
   "source": [
    "plt.close()"
   ]
  },
  {
   "cell_type": "markdown",
   "id": "e9e851a9-6f0b-46af-b866-0881726a4fe0",
   "metadata": {
    "tags": []
   },
   "source": [
    "## 5. Long-term plotting"
   ]
  },
  {
   "cell_type": "markdown",
   "id": "f0c7716c-0fa4-4bf8-b432-c1eff2aee452",
   "metadata": {},
   "source": [
    "We will first select some stations to work on, because plotting all the stations at once would take a lot of space and time. \n",
    "We selected SB03 and SB01, but if you prefer other just change the list below"
   ]
  },
  {
   "cell_type": "markdown",
   "id": "3bb98d72-b12b-446a-94cd-ac59f6c300a4",
   "metadata": {},
   "source": [
    "Then we can load all the computed daily millidecade bands in one xarray dataset for each station, and we will save the output as one file (a full year per station!). \n",
    "For this we will load the data using  the join_all_ds_output_deployment of pypam, which uses Dask parallel computing for fast access. "
   ]
  },
  {
   "cell_type": "markdown",
   "id": "ffaf9c2d-0e30-4409-9ad0-5caa421e7eba",
   "metadata": {},
   "source": [
    "We will load only a part of the data, because the MARS data has spectrum values up to 100 kHz, which is too heavy to process all at once in this machine. "
   ]
  },
  {
   "cell_type": "code",
   "execution_count": 4,
   "id": "b184717e-cc3f-4bf3-8043-5f99c615b0c2",
   "metadata": {
    "tags": []
   },
   "outputs": [],
   "source": [
    "RESAMPLE_RESOLUTION = '1H'\n",
    "# RESAMPLE_RESOLUTION = '1D'\n",
    "min_freq = 10\n",
    "max_freq = 10000"
   ]
  },
  {
   "cell_type": "code",
   "execution_count": 5,
   "id": "abb80112-e139-4a3b-a8c0-37ffa3170486",
   "metadata": {
    "tags": []
   },
   "outputs": [],
   "source": [
    "# Only get data from 2021\n",
    "def load_data_from_station_year(station, year):\n",
    "    deployment_path = pathlib.Path('./readonly/data/').joinpath(station)\n",
    "    print('loading station %s...' % station)\n",
    "    aggregated_ds = pypam.utils.join_all_ds_output_deployment(deployment_path, data_vars=['psd'], datetime_coord='time',\n",
    "                                                              join_only_if_contains='_%s' % year, load=True,\n",
    "                                                              parallel=False, freq_band=[min_freq, max_freq],\n",
    "                                                              freq_coord='frequency',\n",
    "                                                              drop_variables=['psd_image_colormap',\n",
    "                                                                              'psd_image',\n",
    "                                                                              'percentile_image',\n",
    "                                                                              'percentile_image_colormap'])\n",
    "    if 'quality_flag' in aggregated_ds.data_vars:\n",
    "        aggregated_ds = aggregated_ds.where(aggregated_ds.quality_flag == 1, drop=True)\n",
    "    return aggregated_ds # this assigns an xarray dataset"
   ]
  },
  {
   "cell_type": "markdown",
   "id": "01daf445-5dda-440b-a154-e6eb8229a330",
   "metadata": {},
   "source": [
    "We can investigate how 1-year dataset looks"
   ]
  },
  {
   "cell_type": "code",
   "execution_count": 6,
   "id": "5150060c-bcef-42d4-9e9f-00e65368b835",
   "metadata": {
    "tags": []
   },
   "outputs": [
    {
     "name": "stdout",
     "output_type": "stream",
     "text": [
      "loading station SB03...\n",
      "[########################################] | 100% Completed | 9.05 sms\n",
      "loading station MARS...\n",
      "[########################################] | 100% Completed | 4.58 sms\n"
     ]
    }
   ],
   "source": [
    "stations_to_load = ['SB03', 'MARS'] # Make a list of 2 stations to compare\n",
    "ds_collection = {}\n",
    "for station in stations_to_load: \n",
    "    ds_collection[station] = load_data_from_station_year(station, 2021)"
   ]
  },
  {
   "cell_type": "markdown",
   "id": "16a9ac54-1171-4873-ba08-cfa8e5f7742d",
   "metadata": {},
   "source": [
    "### Plot the HMB as yearly long-term spectrograms"
   ]
  },
  {
   "cell_type": "markdown",
   "id": "e153ccb8-d160-47ce-b727-0ee16a514b7c",
   "metadata": {},
   "source": [
    "For memory reasons, plotting 1-minute resolution spectrograms for a full year is not possible. Therefore, we need to downsample the data (by taking the median, because values are in db). We can downsample it to hours or days.\n",
    "Be patient, resampling a full year can take a little while..."
   ]
  },
  {
   "cell_type": "code",
   "execution_count": null,
   "id": "c279fa50-10c6-41ea-b9f9-ce0505bbeea6",
   "metadata": {
    "tags": []
   },
   "outputs": [],
   "source": [
    "station_to_plot = 'SB03' # By changing these value all the plots below will be for the selected stations"
   ]
  },
  {
   "cell_type": "code",
   "execution_count": null,
   "id": "fcf15078-7408-4b4f-9c63-155b94e8827a",
   "metadata": {
    "tags": []
   },
   "outputs": [],
   "source": [
    "# Need to resample first, otherwise it does not plot!\n",
    "ds_resampled = ds_collection[station_to_plot].resample(time=RESAMPLE_RESOLUTION).median()"
   ]
  },
  {
   "cell_type": "code",
   "execution_count": null,
   "id": "b46d8eba-da91-4270-b2a1-dd8edaa7bbd6",
   "metadata": {
    "tags": []
   },
   "outputs": [],
   "source": [
    "ds_resampled"
   ]
  },
  {
   "cell_type": "markdown",
   "id": "776b94c4-3ba3-4a9c-81ae-ae7874b1490e",
   "metadata": {},
   "source": [
    "Again for the plot we need to select the frequency range we want to plot"
   ]
  },
  {
   "cell_type": "code",
   "execution_count": null,
   "id": "e4788afd-eaf8-4b50-84c4-65861b82e3ef",
   "metadata": {},
   "outputs": [],
   "source": [
    "plt.rcParams.update({\n",
    "    \"text.usetex\": False,\n",
    "    \"font.family\": \"sans-serif\"\n",
    "})\n",
    "fig, ax = plt.subplots(figsize=(10, 5))\n",
    "pypam.plots.plot_ltsa(ds=ds_resampled, data_var='psd', log=True, ax=ax, show=False, freq_coord='frequency',\n",
    "                      time_coord='time')\n",
    "ax.set_title(station_to_plot)\n",
    "plt.show()"
   ]
  },
  {
   "cell_type": "code",
   "execution_count": null,
   "id": "a71031c1-5dda-4786-944e-1824888f69ad",
   "metadata": {
    "tags": []
   },
   "outputs": [],
   "source": [
    "plt.close()"
   ]
  },
  {
   "cell_type": "markdown",
   "id": "f9ae5108-551d-478e-abd7-753f6b1ce70c",
   "metadata": {},
   "source": [
    "### Plot the SPD"
   ]
  },
  {
   "cell_type": "code",
   "execution_count": null,
   "id": "6a43a68f-8970-4747-b62b-cebafd7424b6",
   "metadata": {
    "tags": []
   },
   "outputs": [],
   "source": [
    "# First, convert the HMB output to SPD like we did for the small wav files examples\n",
    "percentiles = [1, 10, 50, 90, 99]\n",
    "min_psd = 35 # in db\n",
    "max_psd = 120 # in db\n",
    "h = 1 # in db\n",
    "ds_spd = pypam.utils.compute_spd(ds_resampled, data_var='psd', percentiles=percentiles, min_val=min_psd, \n",
    "                                 max_val=max_psd, h=h)"
   ]
  },
  {
   "cell_type": "code",
   "execution_count": null,
   "id": "51fbc446-824a-453d-b5b6-650111a56d5a",
   "metadata": {
    "tags": []
   },
   "outputs": [],
   "source": [
    "# Plot the obtained output\n",
    "fig, ax = plt.subplots(figsize=(10,5))\n",
    "pypam.plots.plot_spd(spd=ds_spd, log=True, save_path=None, ax=ax, show=False)\n",
    "plt.show()"
   ]
  },
  {
   "cell_type": "code",
   "execution_count": null,
   "id": "cd647595-9b08-48bd-ae5b-3879e9006c3b",
   "metadata": {
    "tags": []
   },
   "outputs": [],
   "source": [
    "plt.close()"
   ]
  },
  {
   "cell_type": "markdown",
   "id": "afe1a84a-6590-40f9-a307-6c065501c4ab",
   "metadata": {},
   "source": [
    "### Plot a summary"
   ]
  },
  {
   "cell_type": "code",
   "execution_count": null,
   "id": "912a60ed-c6e2-4dfe-9fa0-fe67906be7c5",
   "metadata": {
    "tags": []
   },
   "outputs": [],
   "source": [
    "# If we're not interested in the location\n",
    "pypam.plots.plot_summary_dataset(ds_resampled, percentiles, data_var='psd', time_coord='time', freq_coord='frequency',\n",
    "                                 min_val=min_psd, max_val=max_psd, show=True, log=True, save_path=None,\n",
    "                                 location=None)"
   ]
  },
  {
   "cell_type": "code",
   "execution_count": null,
   "id": "dbddac6c-ac70-47ff-953d-a99ac6e9c5f4",
   "metadata": {
    "tags": []
   },
   "outputs": [],
   "source": [
    "plt.close()"
   ]
  },
  {
   "cell_type": "markdown",
   "id": "8dd56ed3-416a-4e9a-ae18-890a10199eb4",
   "metadata": {
    "tags": []
   },
   "source": [
    "## 6. Whale presence indices"
   ]
  },
  {
   "cell_type": "markdown",
   "id": "30b0da84-6083-4ba0-bc4c-b8af842d6b81",
   "metadata": {},
   "source": [
    "Indices are the ratio of mean power spectral density (PSD) within the frequency band of peak call energy to mean PSD at background frequencies.\n",
    "These peak and background frequencies will be illustrated in the summary plot and call index calculations below"
   ]
  },
  {
   "cell_type": "code",
   "execution_count": null,
   "id": "24e51b70-4a64-4b3d-8ad9-77e5de1226b3",
   "metadata": {
    "tags": []
   },
   "outputs": [],
   "source": [
    "# Define the frequencies that are used to compute call indices\n",
    "bluepeak = np.array([42, 43])\n",
    "finpeak = np.array([20, 21])\n",
    "bluebackground = np.array([37, 50])\n",
    "finbackground = np.array([12, 34])"
   ]
  },
  {
   "cell_type": "markdown",
   "id": "24f214b6-b198-459a-a309-a206126d2647",
   "metadata": {},
   "source": [
    "We can plot a LTSA with a line showing these values, but we will resample it first to daily spectra to get daily indices. \n",
    "Be patient, resampling a full year can take a little while..."
   ]
  },
  {
   "cell_type": "code",
   "execution_count": null,
   "id": "369ac462-b346-4b24-ae37-92f9d95a157d",
   "metadata": {
    "tags": []
   },
   "outputs": [],
   "source": [
    "whale_station1 = 'SB03' # Choose the station you want to plot\n",
    "daily_resampled1 = ds_collection[whale_station1].resample(time='1D').median()  # Resample to daily spectra"
   ]
  },
  {
   "cell_type": "code",
   "execution_count": null,
   "id": "0f6fb484-2178-4621-9ebb-f2615e8bbf04",
   "metadata": {
    "tags": []
   },
   "outputs": [],
   "source": [
    "whale_station2 = 'MARS' # Choose the second station you want to plot\n",
    "daily_resampled2 = ds_collection[whale_station2].resample(time='1D').median()  # Resample to daily spectra"
   ]
  },
  {
   "cell_type": "code",
   "execution_count": null,
   "id": "d6822df5-2b8e-4782-adb7-b05879b81b74",
   "metadata": {
    "tags": []
   },
   "outputs": [],
   "source": [
    "# Then, plot the LTSA\n",
    "fig, ax = plt.subplots(figsize=(10, 5))\n",
    "pypam.plots.plot_ltsa(ds=daily_resampled1, data_var='psd', log=True, ax=ax, show=False, freq_coord='frequency',\n",
    "                      time_coord='time')\n",
    "ax.axhline(np.mean(bluepeak),color='black',linestyle='--',linewidth=0.5)\n",
    "ax.axhline(np.mean(finpeak),color='black',linestyle='--',linewidth=0.5)\n",
    "ax.set_title('SB03')\n",
    "plt.show()"
   ]
  },
  {
   "cell_type": "code",
   "execution_count": null,
   "id": "65c45990-463b-4fba-837b-d89e72d928ef",
   "metadata": {
    "tags": []
   },
   "outputs": [],
   "source": [
    "plt.close()"
   ]
  },
  {
   "cell_type": "code",
   "execution_count": null,
   "id": "5ffe4f4e-d464-48e3-a5d1-f46d62ec56e4",
   "metadata": {},
   "outputs": [],
   "source": [
    "def compute_whale_index(peak, background, daily_ds):\n",
    "    pk = daily_ds.sel(frequency=peak).psd.mean(dim='frequency')\n",
    "    bg = daily_ds.sel(frequency=background).psd.mean(dim='frequency')\n",
    "    CI = pk / bg\n",
    "    return CI"
   ]
  },
  {
   "cell_type": "code",
   "execution_count": null,
   "id": "09f65f52-adea-4b38-834d-e7c297225395",
   "metadata": {
    "tags": []
   },
   "outputs": [],
   "source": [
    "# Compute the whale indices\n",
    "finCI1 = compute_whale_index(finpeak, finbackground, daily_resampled1)\n",
    "blueCI1 = compute_whale_index(bluepeak, bluebackground, daily_resampled1)\n",
    "finCI2 = compute_whale_index(finpeak, finbackground, daily_resampled2)\n",
    "blueCI2 = compute_whale_index(bluepeak, bluebackground, daily_resampled2)"
   ]
  },
  {
   "cell_type": "code",
   "execution_count": null,
   "id": "45a563a3-441c-4ef4-ad9b-6e1e4aad8daa",
   "metadata": {
    "tags": []
   },
   "outputs": [],
   "source": [
    "# Plot the whale indices\n",
    "fig, ax = plt.subplots(2, 1, figsize=(10,6), sharex=True, sharey=True)\n",
    "ax[0].plot(daily_resampled1.time.values, blueCI1, '.', label='blue whale')\n",
    "ax[0].plot(daily_resampled1.time.values, finCI1, 'o', markerfacecolor='none', label='fin whale')\n",
    "ax[0].axhline(1, color='black', linestyle='--', linewidth=0.5)\n",
    "ax[0].set_facecolor('white')\n",
    "ax[0].set_title(whale_station1)\n",
    "\n",
    "ax[1].plot(daily_resampled2.time.values, blueCI2, '.', label='blue whale')\n",
    "ax[1].plot(daily_resampled2.time.values, finCI2, 'o', markerfacecolor='none', label='fin whale')\n",
    "ax[1].axhline(1, color='black', linestyle='--', linewidth=0.5)\n",
    "ax[1].set_facecolor('white')\n",
    "ax[1].set_title(whale_station2)\n",
    "\n",
    "plt.suptitle('Daily whale call index')\n",
    "plt.ylabel('Call index')\n",
    "plt.legend()\n",
    "plt.show()"
   ]
  },
  {
   "cell_type": "code",
   "execution_count": null,
   "id": "5039113d-7f67-4754-9184-bed8c066e7dd",
   "metadata": {
    "tags": []
   },
   "outputs": [],
   "source": [
    "plt.close()"
   ]
  },
  {
   "cell_type": "markdown",
   "id": "99d9eeea-ce26-4cbd-81e6-51f0e5d10a27",
   "metadata": {
    "tags": []
   },
   "source": [
    "## 7. Daily patterns"
   ]
  },
  {
   "cell_type": "markdown",
   "id": "4daf6e33-3136-43f9-9283-c41719c20647",
   "metadata": {
    "tags": []
   },
   "source": [
    "We can plot the hourly data we have obtained for the entire year to see if there are any daily patterns which repeat"
   ]
  },
  {
   "cell_type": "code",
   "execution_count": null,
   "id": "cd96543a-a2ea-4cae-9eb3-4068f89f58b9",
   "metadata": {
    "tags": []
   },
   "outputs": [],
   "source": [
    "fig, ax = plt.subplots(figsize=(10, 5))\n",
    "ds_freq = pypam.utils.freq_band_aggregation(ds_resampled, data_var='psd', aggregation_freq_band=[10, 20])\n",
    "pypam.plots.plot_daily_patterns_from_ds(ds=ds_freq, data_var='psd', show=True, datetime_coord='time', ax=ax)"
   ]
  },
  {
   "cell_type": "code",
   "execution_count": null,
   "id": "fd69221d-e28d-4027-b6da-eaa90e2b9dc2",
   "metadata": {
    "tags": []
   },
   "outputs": [],
   "source": [
    "plt.close()"
   ]
  },
  {
   "cell_type": "markdown",
   "id": "8e63d099-e5ed-4ad7-b750-1007e0b31eba",
   "metadata": {
    "tags": []
   },
   "source": [
    "## 8. Compare data between stations"
   ]
  },
  {
   "cell_type": "markdown",
   "id": "bbc14afe-8125-463d-90b8-65900b9fb213",
   "metadata": {},
   "source": [
    "We can compare the spectrums of two locations, by visualizing the median and the [10, 90] percentile spectrum of each location."
   ]
  },
  {
   "cell_type": "code",
   "execution_count": null,
   "id": "08100e2f-fca8-4464-9289-712143ab8b2f",
   "metadata": {
    "tags": []
   },
   "outputs": [],
   "source": [
    "# Spectral Density comparison\n",
    "ds_collection_resampled = {'SB03': ds_collection['SB03'].resample(time='1H').median(),\n",
    "                           'MARS': ds_collection['MARS'].resample(time='1H').median()}"
   ]
  },
  {
   "cell_type": "code",
   "execution_count": null,
   "id": "2fe5005b-b532-46bd-b089-f8185831847d",
   "metadata": {
    "tags": []
   },
   "outputs": [],
   "source": [
    "plt.rcParams.update({\n",
    "    \"text.usetex\": False,\n",
    "    \"font.family\": \"sans-serif\"\n",
    "})\n",
    "fig, ax = plt.subplots(figsize=(10, 5))\n",
    "ax = pypam.plots.plot_multiple_spectrum_median(ds_collection_resampled, 'psd', percentiles='default', \n",
    "                                               frequency_coord='frequency',\n",
    "                                               log=True, save_path=None, \n",
    "                                               ax=ax, show=True, time_coord='time')"
   ]
  },
  {
   "cell_type": "code",
   "execution_count": null,
   "id": "36260262-7d7a-4aab-a04a-4d61bb59081e",
   "metadata": {
    "tags": []
   },
   "outputs": [],
   "source": [
    "plt.close()"
   ]
  },
  {
   "cell_type": "markdown",
   "id": "4f720aeb-27c8-4b18-9a6a-dbda44c6ec1a",
   "metadata": {},
   "source": [
    "### Aggregations and boxplots"
   ]
  },
  {
   "cell_type": "code",
   "execution_count": null,
   "id": "3b29ecd1-d98f-4788-816f-d311ba367b5a",
   "metadata": {},
   "outputs": [],
   "source": [
    "plt.rcParams.update({\n",
    "    \"text.usetex\": False,\n",
    "    \"font.family\": \"sans-serif\"\n",
    "})\n",
    "aggregation_time = 'M'  # H, D, W, or M (hour, day, week or month)\n",
    "aggregation_freq_band = [10, 200]\n",
    "mode = 'violin'  # It can be boxplot, violin or quantiles\n",
    "fig, ax = plt.subplots(figsize=(10, 6))\n",
    "ax = pypam.plots.plot_multiple_aggregation_evolution(ds_dict=ds_collection,\n",
    "                                                     data_var='psd',\n",
    "                                                     mode=mode,\n",
    "                                                     show=True,\n",
    "                                                     datetime_coord='time',\n",
    "                                                     aggregation_time=aggregation_time,\n",
    "                                                     freq_coord='frequency',\n",
    "                                                     aggregation_freq_band=aggregation_freq_band,\n",
    "                                                     ax=ax,\n",
    "                                                     alpha=0.5)\n",
    "ax.set_title('Median sound intensity in water fro frequency band %s to %s Hz' % aggregation_freq_band)"
   ]
  },
  {
   "cell_type": "markdown",
   "id": "7ee09bcf-22c7-47fd-bfb9-980020261d35",
   "metadata": {},
   "source": [
    "We can now plot the evolution of all the stations by calling the bin aggregation function. It will compute the median of all the values included in the frequency band specified.\n",
    "Then it will aggregate all the values of the dataset in time to match the specified time frequency. \n",
    "PyPAM has a function to plot the evolution of one or multiple stations. "
   ]
  },
  {
   "cell_type": "code",
   "execution_count": null,
   "id": "d3a63973-50c0-4738-a8d5-daad0aa77f25",
   "metadata": {
    "tags": []
   },
   "outputs": [],
   "source": [
    "plt.close()"
   ]
  },
  {
   "cell_type": "markdown",
   "id": "960437f7-95bb-4214-ad56-31d89d97b3f6",
   "metadata": {},
   "source": [
    "## 9. Conversions: from HMB to decidecade bands"
   ]
  },
  {
   "cell_type": "code",
   "execution_count": null,
   "id": "fff8036e-f63f-443e-b18f-701afe33991a",
   "metadata": {},
   "outputs": [],
   "source": [
    "import pypam\n",
    "nfft = 48000\n",
    "fs = 48000\n",
    "\n",
    "bands_limits, bands_c = pypam.utils.get_decidecade_limits(band=[0, fs/2], nfft=nfft)"
   ]
  },
  {
   "cell_type": "code",
   "execution_count": null,
   "id": "75e32681-687a-401b-9d65-afcb61af942c",
   "metadata": {},
   "outputs": [],
   "source": [
    "decidecade_ds = ds_collection['SB03'].groupby_bins('frequency', bins=bands_limits, labels=bands_c, right=False).sum()\n",
    "\n",
    "bandwidths = decidecade_ds.upper_frequency - decidecade_ds.lower_frequency\n",
    "decidecade_ds = decidecade_ds / bandwidths"
   ]
  }
 ],
 "metadata": {
  "kernelspec": {
   "display_name": "Python 3 (ipykernel)",
   "language": "python",
   "name": "python3"
  },
  "language_info": {
   "codemirror_mode": {
    "name": "ipython",
    "version": 3
   },
   "file_extension": ".py",
   "mimetype": "text/x-python",
   "name": "python",
   "nbconvert_exporter": "python",
   "pygments_lexer": "ipython3",
   "version": "3.10.6"
  },
  "toc-autonumbering": false
 },
 "nbformat": 4,
 "nbformat_minor": 5
}
