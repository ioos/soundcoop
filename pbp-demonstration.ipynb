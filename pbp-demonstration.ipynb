{
 "cells": [
  {
   "cell_type": "markdown",
   "id": "d087f632",
   "metadata": {},
   "source": [
    "## Exercising PBP - PyPAM Based Processing\n",
    "\n",
    "**NOTE**: WIP\n",
    "\n",
    "PBP repo: https://github.com/mbari-org/pypam-based-processing\n",
    "\n",
    "In short, the main steps in this notebook are:\n",
    "\n",
    "- Clone PBP to support the HMB generation\n",
    "- Install dependencies, including PyPAM\n",
    "- Do preparations in terms of working space for downloaded and generated files\n",
    "- Generate HMB for a single day\n",
    "- Generate HMB for multiple days in parallel using Dask"
   ]
  },
  {
   "cell_type": "markdown",
   "id": "680b8f25-a355-40d8-b011-93f188413f4a",
   "metadata": {},
   "source": [
    "## Basic checks"
   ]
  },
  {
   "cell_type": "code",
   "execution_count": 3,
   "id": "d2a1faaf-2926-4d91-9a4b-789fe02eb189",
   "metadata": {
    "tags": []
   },
   "outputs": [
    {
     "name": "stdout",
     "output_type": "stream",
     "text": [
      "/home/jovyan/mbari\n"
     ]
    }
   ],
   "source": [
    "!pwd"
   ]
  },
  {
   "cell_type": "code",
   "execution_count": 4,
   "id": "47fe741c-c6a6-4390-9c5a-f7951ca0cde0",
   "metadata": {},
   "outputs": [
    {
     "name": "stdout",
     "output_type": "stream",
     "text": [
      "Python 3.10.6\n"
     ]
    }
   ],
   "source": [
    "!python --version"
   ]
  },
  {
   "cell_type": "markdown",
   "id": "879b81f4-90c6-4910-8f63-f66ae0013afc",
   "metadata": {},
   "source": [
    "## Code preparations"
   ]
  },
  {
   "cell_type": "markdown",
   "id": "f4d35799-009f-4c58-860d-af5a6f3bf9e8",
   "metadata": {},
   "source": [
    "### PBP clone"
   ]
  },
  {
   "cell_type": "code",
   "execution_count": 5,
   "id": "877a4107",
   "metadata": {
    "tags": []
   },
   "outputs": [
    {
     "name": "stdout",
     "output_type": "stream",
     "text": [
      "/home/jovyan/mbari/pypam-based-processing\n",
      "/home/jovyan/mbari/pypam-based-processing\n"
     ]
    }
   ],
   "source": [
    "## If PBP has not been cloned already:\n",
    "# !git clone https://github.com/mbari-org/pypam-based-processing.git\n",
    "# %cd pypam-based-processing/\n",
    "\n",
    "## Else:\n",
    "%cd pypam-based-processing/\n",
    "# !git pull\n",
    "\n",
    "## In any case, we want to be located in the pypam-based-processing folder.\n",
    "!pwd"
   ]
  },
  {
   "cell_type": "markdown",
   "id": "66faae3c-1363-470a-9c47-3f76a23fb42b",
   "metadata": {},
   "source": [
    "### Install requirements"
   ]
  },
  {
   "cell_type": "code",
   "execution_count": 6,
   "id": "bdeb3f17",
   "metadata": {
    "tags": []
   },
   "outputs": [
    {
     "name": "stdout",
     "output_type": "stream",
     "text": [
      "Requirement already satisfied: boto3==1.28.3 in /opt/conda/lib/python3.10/site-packages (from -r requirements.txt (line 1)) (1.28.3)\n",
      "Requirement already satisfied: dataclasses-json==0.5.9 in /opt/conda/lib/python3.10/site-packages (from -r requirements.txt (line 2)) (0.5.9)\n",
      "Requirement already satisfied: python-dateutil==2.8.2 in /opt/conda/lib/python3.10/site-packages (from -r requirements.txt (line 3)) (2.8.2)\n",
      "Requirement already satisfied: pyyaml==6.0 in /opt/conda/lib/python3.10/site-packages (from -r requirements.txt (line 4)) (6.0)\n",
      "Requirement already satisfied: marshmallow==3.19.0 in /opt/conda/lib/python3.10/site-packages (from -r requirements.txt (line 5)) (3.19.0)\n",
      "Requirement already satisfied: soundfile==0.12.1 in /opt/conda/lib/python3.10/site-packages (from -r requirements.txt (line 7)) (0.12.1)\n",
      "Requirement already satisfied: h5netcdf==1.2.0 in /opt/conda/lib/python3.10/site-packages (from -r requirements.txt (line 13)) (1.2.0)\n",
      "Requirement already satisfied: pvlib==0.10.1 in /opt/conda/lib/python3.10/site-packages (from -r requirements.txt (line 17)) (0.10.1)\n",
      "Requirement already satisfied: mypy==1.4.1 in /opt/conda/lib/python3.10/site-packages (from -r requirements.txt (line 20)) (1.4.1)\n",
      "Requirement already satisfied: ruff==0.0.278 in /opt/conda/lib/python3.10/site-packages (from -r requirements.txt (line 21)) (0.0.278)\n",
      "Requirement already satisfied: ufmt==2.1.0 in /opt/conda/lib/python3.10/site-packages (from -r requirements.txt (line 22)) (2.1.0)\n",
      "Requirement already satisfied: pylint==2.17.4 in /opt/conda/lib/python3.10/site-packages (from -r requirements.txt (line 23)) (2.17.4)\n",
      "Requirement already satisfied: pytest==7.4.0 in /opt/conda/lib/python3.10/site-packages (from -r requirements.txt (line 24)) (7.4.0)\n",
      "Requirement already satisfied: syrupy==4.0.6 in /opt/conda/lib/python3.10/site-packages (from -r requirements.txt (line 25)) (4.0.6)\n",
      "Requirement already satisfied: botocore<1.32.0,>=1.31.3 in /opt/conda/lib/python3.10/site-packages (from boto3==1.28.3->-r requirements.txt (line 1)) (1.31.67)\n",
      "Requirement already satisfied: jmespath<2.0.0,>=0.7.1 in /opt/conda/lib/python3.10/site-packages (from boto3==1.28.3->-r requirements.txt (line 1)) (1.0.1)\n",
      "Requirement already satisfied: s3transfer<0.7.0,>=0.6.0 in /opt/conda/lib/python3.10/site-packages (from boto3==1.28.3->-r requirements.txt (line 1)) (0.6.2)\n",
      "Requirement already satisfied: marshmallow-enum<2.0.0,>=1.5.1 in /opt/conda/lib/python3.10/site-packages (from dataclasses-json==0.5.9->-r requirements.txt (line 2)) (1.5.1)\n",
      "Requirement already satisfied: typing-inspect>=0.4.0 in /opt/conda/lib/python3.10/site-packages (from dataclasses-json==0.5.9->-r requirements.txt (line 2)) (0.9.0)\n",
      "Requirement already satisfied: six>=1.5 in /opt/conda/lib/python3.10/site-packages (from python-dateutil==2.8.2->-r requirements.txt (line 3)) (1.15.0)\n",
      "Requirement already satisfied: packaging>=17.0 in /opt/conda/lib/python3.10/site-packages (from marshmallow==3.19.0->-r requirements.txt (line 5)) (23.2)\n",
      "Requirement already satisfied: cffi>=1.0 in /opt/conda/lib/python3.10/site-packages (from soundfile==0.12.1->-r requirements.txt (line 7)) (1.15.1)\n",
      "Requirement already satisfied: h5py in /opt/conda/lib/python3.10/site-packages (from h5netcdf==1.2.0->-r requirements.txt (line 13)) (3.8.0)\n",
      "Requirement already satisfied: numpy>=1.16.0 in /opt/conda/lib/python3.10/site-packages (from pvlib==0.10.1->-r requirements.txt (line 17)) (1.24.4)\n",
      "Requirement already satisfied: pandas>=0.25.0 in /opt/conda/lib/python3.10/site-packages (from pvlib==0.10.1->-r requirements.txt (line 17)) (2.1.1)\n",
      "Requirement already satisfied: pytz in /opt/conda/lib/python3.10/site-packages (from pvlib==0.10.1->-r requirements.txt (line 17)) (2023.3.post1)\n",
      "Requirement already satisfied: requests in /opt/conda/lib/python3.10/site-packages (from pvlib==0.10.1->-r requirements.txt (line 17)) (2.31.0)\n",
      "Requirement already satisfied: scipy>=1.4.0 in /opt/conda/lib/python3.10/site-packages (from pvlib==0.10.1->-r requirements.txt (line 17)) (1.10.0)\n",
      "Requirement already satisfied: typing-extensions>=4.1.0 in /opt/conda/lib/python3.10/site-packages (from mypy==1.4.1->-r requirements.txt (line 20)) (4.4.0)\n",
      "Requirement already satisfied: mypy-extensions>=1.0.0 in /opt/conda/lib/python3.10/site-packages (from mypy==1.4.1->-r requirements.txt (line 20)) (1.0.0)\n",
      "Requirement already satisfied: tomli>=1.1.0 in /opt/conda/lib/python3.10/site-packages (from mypy==1.4.1->-r requirements.txt (line 20)) (2.0.1)\n",
      "Requirement already satisfied: black>=20.8b0 in /opt/conda/lib/python3.10/site-packages (from ufmt==2.1.0->-r requirements.txt (line 22)) (23.10.0)\n",
      "Requirement already satisfied: click>=8.0 in /opt/conda/lib/python3.10/site-packages (from ufmt==2.1.0->-r requirements.txt (line 22)) (8.1.7)\n",
      "Requirement already satisfied: libcst>=0.4.0 in /opt/conda/lib/python3.10/site-packages (from ufmt==2.1.0->-r requirements.txt (line 22)) (1.1.0)\n",
      "Requirement already satisfied: moreorless>=0.4.0 in /opt/conda/lib/python3.10/site-packages (from ufmt==2.1.0->-r requirements.txt (line 22)) (0.4.0)\n",
      "Requirement already satisfied: tomlkit>=0.7.2 in /opt/conda/lib/python3.10/site-packages (from ufmt==2.1.0->-r requirements.txt (line 22)) (0.12.1)\n",
      "Requirement already satisfied: trailrunner>=1.2.1 in /opt/conda/lib/python3.10/site-packages (from ufmt==2.1.0->-r requirements.txt (line 22)) (1.4.0)\n",
      "Requirement already satisfied: usort>=1.0 in /opt/conda/lib/python3.10/site-packages (from ufmt==2.1.0->-r requirements.txt (line 22)) (1.0.7)\n",
      "Requirement already satisfied: platformdirs>=2.2.0 in /opt/conda/lib/python3.10/site-packages (from pylint==2.17.4->-r requirements.txt (line 23)) (3.11.0)\n",
      "Requirement already satisfied: astroid<=2.17.0-dev0,>=2.15.4 in /opt/conda/lib/python3.10/site-packages (from pylint==2.17.4->-r requirements.txt (line 23)) (2.15.8)\n",
      "Requirement already satisfied: isort<6,>=4.2.5 in /opt/conda/lib/python3.10/site-packages (from pylint==2.17.4->-r requirements.txt (line 23)) (5.12.0)\n",
      "Requirement already satisfied: mccabe<0.8,>=0.6 in /opt/conda/lib/python3.10/site-packages (from pylint==2.17.4->-r requirements.txt (line 23)) (0.7.0)\n",
      "Requirement already satisfied: dill>=0.2 in /opt/conda/lib/python3.10/site-packages (from pylint==2.17.4->-r requirements.txt (line 23)) (0.3.7)\n",
      "Requirement already satisfied: iniconfig in /opt/conda/lib/python3.10/site-packages (from pytest==7.4.0->-r requirements.txt (line 24)) (2.0.0)\n",
      "Requirement already satisfied: pluggy<2.0,>=0.12 in /opt/conda/lib/python3.10/site-packages (from pytest==7.4.0->-r requirements.txt (line 24)) (1.3.0)\n",
      "Requirement already satisfied: exceptiongroup>=1.0.0rc8 in /opt/conda/lib/python3.10/site-packages (from pytest==7.4.0->-r requirements.txt (line 24)) (1.1.3)\n",
      "Requirement already satisfied: colored<2.0.0,>=1.3.92 in /opt/conda/lib/python3.10/site-packages (from syrupy==4.0.6->-r requirements.txt (line 25)) (1.4.4)\n",
      "Requirement already satisfied: lazy-object-proxy>=1.4.0 in /opt/conda/lib/python3.10/site-packages (from astroid<=2.17.0-dev0,>=2.15.4->pylint==2.17.4->-r requirements.txt (line 23)) (1.9.0)\n",
      "Requirement already satisfied: wrapt<2,>=1.11 in /opt/conda/lib/python3.10/site-packages (from astroid<=2.17.0-dev0,>=2.15.4->pylint==2.17.4->-r requirements.txt (line 23)) (1.15.0)\n",
      "Requirement already satisfied: pathspec>=0.9.0 in /opt/conda/lib/python3.10/site-packages (from black>=20.8b0->ufmt==2.1.0->-r requirements.txt (line 22)) (0.11.2)\n",
      "Requirement already satisfied: urllib3<2.1,>=1.25.4 in /opt/conda/lib/python3.10/site-packages (from botocore<1.32.0,>=1.31.3->boto3==1.28.3->-r requirements.txt (line 1)) (1.26.11)\n",
      "Requirement already satisfied: pycparser in /opt/conda/lib/python3.10/site-packages (from cffi>=1.0->soundfile==0.12.1->-r requirements.txt (line 7)) (2.21)\n",
      "Requirement already satisfied: tzdata>=2022.1 in /opt/conda/lib/python3.10/site-packages (from pandas>=0.25.0->pvlib==0.10.1->-r requirements.txt (line 17)) (2023.3)\n",
      "Requirement already satisfied: attrs>=21.2.0 in /opt/conda/lib/python3.10/site-packages (from usort>=1.0->ufmt==2.1.0->-r requirements.txt (line 22)) (22.1.0)\n",
      "Requirement already satisfied: stdlibs>=2021.4.1 in /opt/conda/lib/python3.10/site-packages (from usort>=1.0->ufmt==2.1.0->-r requirements.txt (line 22)) (2022.10.9)\n",
      "Requirement already satisfied: toml>=0.10.0 in /opt/conda/lib/python3.10/site-packages (from usort>=1.0->ufmt==2.1.0->-r requirements.txt (line 22)) (0.10.2)\n",
      "Requirement already satisfied: charset-normalizer<4,>=2 in /opt/conda/lib/python3.10/site-packages (from requests->pvlib==0.10.1->-r requirements.txt (line 17)) (2.1.1)\n",
      "Requirement already satisfied: idna<4,>=2.5 in /opt/conda/lib/python3.10/site-packages (from requests->pvlib==0.10.1->-r requirements.txt (line 17)) (3.4)\n",
      "Requirement already satisfied: certifi>=2017.4.17 in /opt/conda/lib/python3.10/site-packages (from requests->pvlib==0.10.1->-r requirements.txt (line 17)) (2023.7.22)\n",
      "Collecting git+https://github.com/lifewatch/pypam.git\n",
      "  Cloning https://github.com/lifewatch/pypam.git to /tmp/pip-req-build-2o6meuwg\n",
      "  Running command git clone --filter=blob:none --quiet https://github.com/lifewatch/pypam.git /tmp/pip-req-build-2o6meuwg\n",
      "  Resolved https://github.com/lifewatch/pypam.git to commit 7c6423aeea77b9b1d8b4299c31cb1fe485d0b731\n",
      "  Installing build dependencies ... \u001b[?25ldone\n",
      "\u001b[?25h  Getting requirements to build wheel ... \u001b[?25ldone\n",
      "\u001b[?25h  Preparing metadata (pyproject.toml) ... \u001b[?25ldone\n",
      "\u001b[?25hRequirement already satisfied: certifi<2024.0.0,>=2023.7.22 in /opt/conda/lib/python3.10/site-packages (from lifewatch-pypam==0.2.1) (2023.7.22)\n",
      "Collecting cryptography<42.0.0,>=41.0.2 (from lifewatch-pypam==0.2.1)\n",
      "  Downloading cryptography-41.0.4-cp37-abi3-manylinux_2_28_x86_64.whl.metadata (5.2 kB)\n",
      "Requirement already satisfied: dask<2024.0.0,>=2023.9.3 in /opt/conda/lib/python3.10/site-packages (from lifewatch-pypam==0.2.1) (2023.10.0)\n",
      "Requirement already satisfied: matplotlib<4.0.0,>=3.7.1 in /opt/conda/lib/python3.10/site-packages (from lifewatch-pypam==0.2.1) (3.8.0)\n",
      "Requirement already satisfied: netcdf4<2.0.0,>=1.6.4 in /opt/conda/lib/python3.10/site-packages (from lifewatch-pypam==0.2.1) (1.6.4)\n",
      "Requirement already satisfied: noisereduce<3.0.0,>=2.0.1 in /opt/conda/lib/python3.10/site-packages (from lifewatch-pypam==0.2.1) (2.0.1)\n",
      "Requirement already satisfied: numba<0.58.0,>=0.57.0 in /opt/conda/lib/python3.10/site-packages (from lifewatch-pypam==0.2.1) (0.57.1)\n",
      "Requirement already satisfied: numpy<2.0.0,>=1.24.3 in /opt/conda/lib/python3.10/site-packages (from lifewatch-pypam==0.2.1) (1.24.4)\n",
      "Requirement already satisfied: openpyxl<4.0.0,>=3.1.2 in /opt/conda/lib/python3.10/site-packages (from lifewatch-pypam==0.2.1) (3.1.2)\n",
      "Requirement already satisfied: pandas<3.0.0,>=2.0.2 in /opt/conda/lib/python3.10/site-packages (from lifewatch-pypam==0.2.1) (2.1.1)\n",
      "Requirement already satisfied: poetry<2.0.0,>=1.5.0 in /opt/conda/lib/python3.10/site-packages (from lifewatch-pypam==0.2.1) (1.6.1)\n",
      "Requirement already satisfied: pyhydrophone<0.2.0,>=0.1.7 in /opt/conda/lib/python3.10/site-packages (from lifewatch-pypam==0.2.1) (0.1.7)\n",
      "Requirement already satisfied: python-dateutil<3.0.0,>=2.8.2 in /opt/conda/lib/python3.10/site-packages (from lifewatch-pypam==0.2.1) (2.8.2)\n",
      "Requirement already satisfied: scikit-learn<2.0.0,>=1.2.2 in /opt/conda/lib/python3.10/site-packages (from lifewatch-pypam==0.2.1) (1.3.1)\n",
      "Requirement already satisfied: scikit-maad<2.0.0,>=1.4.0 in /opt/conda/lib/python3.10/site-packages (from lifewatch-pypam==0.2.1) (1.4.0)\n",
      "Requirement already satisfied: seaborn==0.13.0 in /opt/conda/lib/python3.10/site-packages (from lifewatch-pypam==0.2.1) (0.13.0)\n",
      "Requirement already satisfied: setuptools<69.0.0,>=68.1.0 in /opt/conda/lib/python3.10/site-packages (from lifewatch-pypam==0.2.1) (68.2.2)\n",
      "Requirement already satisfied: soundfile<0.13.0,>=0.12.1 in /opt/conda/lib/python3.10/site-packages (from lifewatch-pypam==0.2.1) (0.12.1)\n",
      "Requirement already satisfied: syrupy<5.0.0,>=4.0.4 in /opt/conda/lib/python3.10/site-packages (from lifewatch-pypam==0.2.1) (4.0.6)\n",
      "Requirement already satisfied: tqdm<5.0.0,>=4.65.0 in /opt/conda/lib/python3.10/site-packages (from lifewatch-pypam==0.2.1) (4.66.1)\n",
      "Requirement already satisfied: xarray==2023.8.0 in /opt/conda/lib/python3.10/site-packages (from lifewatch-pypam==0.2.1) (2023.8.0)\n",
      "Requirement already satisfied: packaging>=21.3 in /opt/conda/lib/python3.10/site-packages (from xarray==2023.8.0->lifewatch-pypam==0.2.1) (23.2)\n",
      "Requirement already satisfied: cffi>=1.12 in /opt/conda/lib/python3.10/site-packages (from cryptography<42.0.0,>=41.0.2->lifewatch-pypam==0.2.1) (1.15.1)\n",
      "Requirement already satisfied: click>=8.0 in /opt/conda/lib/python3.10/site-packages (from dask<2024.0.0,>=2023.9.3->lifewatch-pypam==0.2.1) (8.1.7)\n",
      "Requirement already satisfied: cloudpickle>=1.5.0 in /opt/conda/lib/python3.10/site-packages (from dask<2024.0.0,>=2023.9.3->lifewatch-pypam==0.2.1) (3.0.0)\n",
      "Requirement already satisfied: fsspec>=2021.09.0 in /opt/conda/lib/python3.10/site-packages (from dask<2024.0.0,>=2023.9.3->lifewatch-pypam==0.2.1) (2023.9.2)\n",
      "Requirement already satisfied: partd>=1.2.0 in /opt/conda/lib/python3.10/site-packages (from dask<2024.0.0,>=2023.9.3->lifewatch-pypam==0.2.1) (1.4.1)\n",
      "Requirement already satisfied: pyyaml>=5.3.1 in /opt/conda/lib/python3.10/site-packages (from dask<2024.0.0,>=2023.9.3->lifewatch-pypam==0.2.1) (6.0)\n",
      "Requirement already satisfied: toolz>=0.10.0 in /opt/conda/lib/python3.10/site-packages (from dask<2024.0.0,>=2023.9.3->lifewatch-pypam==0.2.1) (0.12.0)\n",
      "Requirement already satisfied: importlib-metadata>=4.13.0 in /opt/conda/lib/python3.10/site-packages (from dask<2024.0.0,>=2023.9.3->lifewatch-pypam==0.2.1) (6.8.0)\n",
      "Requirement already satisfied: contourpy>=1.0.1 in /opt/conda/lib/python3.10/site-packages (from matplotlib<4.0.0,>=3.7.1->lifewatch-pypam==0.2.1) (1.1.1)\n",
      "Requirement already satisfied: cycler>=0.10 in /opt/conda/lib/python3.10/site-packages (from matplotlib<4.0.0,>=3.7.1->lifewatch-pypam==0.2.1) (0.12.1)\n",
      "Requirement already satisfied: fonttools>=4.22.0 in /opt/conda/lib/python3.10/site-packages (from matplotlib<4.0.0,>=3.7.1->lifewatch-pypam==0.2.1) (4.43.1)\n",
      "Requirement already satisfied: kiwisolver>=1.0.1 in /opt/conda/lib/python3.10/site-packages (from matplotlib<4.0.0,>=3.7.1->lifewatch-pypam==0.2.1) (1.4.5)\n",
      "Requirement already satisfied: pillow>=6.2.0 in /opt/conda/lib/python3.10/site-packages (from matplotlib<4.0.0,>=3.7.1->lifewatch-pypam==0.2.1) (9.2.0)\n",
      "Requirement already satisfied: pyparsing>=2.3.1 in /opt/conda/lib/python3.10/site-packages (from matplotlib<4.0.0,>=3.7.1->lifewatch-pypam==0.2.1) (3.0.9)\n",
      "Requirement already satisfied: cftime in /opt/conda/lib/python3.10/site-packages (from netcdf4<2.0.0,>=1.6.4->lifewatch-pypam==0.2.1) (1.6.2)\n",
      "Requirement already satisfied: scipy in /opt/conda/lib/python3.10/site-packages (from noisereduce<3.0.0,>=2.0.1->lifewatch-pypam==0.2.1) (1.10.0)\n",
      "Requirement already satisfied: librosa in /opt/conda/lib/python3.10/site-packages (from noisereduce<3.0.0,>=2.0.1->lifewatch-pypam==0.2.1) (0.10.1)\n",
      "Requirement already satisfied: llvmlite<0.41,>=0.40.0dev0 in /opt/conda/lib/python3.10/site-packages (from numba<0.58.0,>=0.57.0->lifewatch-pypam==0.2.1) (0.40.1)\n",
      "Requirement already satisfied: et-xmlfile in /opt/conda/lib/python3.10/site-packages (from openpyxl<4.0.0,>=3.1.2->lifewatch-pypam==0.2.1) (1.1.0)\n",
      "Requirement already satisfied: pytz>=2020.1 in /opt/conda/lib/python3.10/site-packages (from pandas<3.0.0,>=2.0.2->lifewatch-pypam==0.2.1) (2023.3.post1)\n",
      "Requirement already satisfied: tzdata>=2022.1 in /opt/conda/lib/python3.10/site-packages (from pandas<3.0.0,>=2.0.2->lifewatch-pypam==0.2.1) (2023.3)\n",
      "Requirement already satisfied: build<0.11.0,>=0.10.0 in /opt/conda/lib/python3.10/site-packages (from poetry<2.0.0,>=1.5.0->lifewatch-pypam==0.2.1) (0.10.0)\n",
      "Requirement already satisfied: cachecontrol<0.14.0,>=0.13.0 in /opt/conda/lib/python3.10/site-packages (from cachecontrol[filecache]<0.14.0,>=0.13.0->poetry<2.0.0,>=1.5.0->lifewatch-pypam==0.2.1) (0.13.1)\n",
      "Requirement already satisfied: cleo<3.0.0,>=2.0.0 in /opt/conda/lib/python3.10/site-packages (from poetry<2.0.0,>=1.5.0->lifewatch-pypam==0.2.1) (2.0.1)\n",
      "Requirement already satisfied: crashtest<0.5.0,>=0.4.1 in /opt/conda/lib/python3.10/site-packages (from poetry<2.0.0,>=1.5.0->lifewatch-pypam==0.2.1) (0.4.1)\n",
      "Requirement already satisfied: dulwich<0.22.0,>=0.21.2 in /opt/conda/lib/python3.10/site-packages (from poetry<2.0.0,>=1.5.0->lifewatch-pypam==0.2.1) (0.21.6)\n",
      "Requirement already satisfied: installer<0.8.0,>=0.7.0 in /opt/conda/lib/python3.10/site-packages (from poetry<2.0.0,>=1.5.0->lifewatch-pypam==0.2.1) (0.7.0)\n",
      "Requirement already satisfied: jsonschema<4.18.0,>=4.10.0 in /opt/conda/lib/python3.10/site-packages (from poetry<2.0.0,>=1.5.0->lifewatch-pypam==0.2.1) (4.17.3)\n",
      "Requirement already satisfied: keyring<25.0.0,>=24.0.0 in /opt/conda/lib/python3.10/site-packages (from poetry<2.0.0,>=1.5.0->lifewatch-pypam==0.2.1) (24.2.0)\n",
      "Requirement already satisfied: pexpect<5.0.0,>=4.7.0 in /opt/conda/lib/python3.10/site-packages (from poetry<2.0.0,>=1.5.0->lifewatch-pypam==0.2.1) (4.8.0)\n",
      "Requirement already satisfied: pkginfo<2.0.0,>=1.9.4 in /opt/conda/lib/python3.10/site-packages (from poetry<2.0.0,>=1.5.0->lifewatch-pypam==0.2.1) (1.9.6)\n",
      "Requirement already satisfied: platformdirs<4.0.0,>=3.0.0 in /opt/conda/lib/python3.10/site-packages (from poetry<2.0.0,>=1.5.0->lifewatch-pypam==0.2.1) (3.11.0)\n",
      "Requirement already satisfied: poetry-core==1.7.0 in /opt/conda/lib/python3.10/site-packages (from poetry<2.0.0,>=1.5.0->lifewatch-pypam==0.2.1) (1.7.0)\n",
      "Requirement already satisfied: poetry-plugin-export<2.0.0,>=1.5.0 in /opt/conda/lib/python3.10/site-packages (from poetry<2.0.0,>=1.5.0->lifewatch-pypam==0.2.1) (1.5.0)\n",
      "Requirement already satisfied: pyproject-hooks<2.0.0,>=1.0.0 in /opt/conda/lib/python3.10/site-packages (from poetry<2.0.0,>=1.5.0->lifewatch-pypam==0.2.1) (1.0.0)\n",
      "Requirement already satisfied: requests<3.0,>=2.26 in /opt/conda/lib/python3.10/site-packages (from poetry<2.0.0,>=1.5.0->lifewatch-pypam==0.2.1) (2.31.0)\n",
      "Requirement already satisfied: requests-toolbelt<2,>=0.9.1 in /opt/conda/lib/python3.10/site-packages (from poetry<2.0.0,>=1.5.0->lifewatch-pypam==0.2.1) (1.0.0)\n",
      "Requirement already satisfied: shellingham<2.0,>=1.5 in /opt/conda/lib/python3.10/site-packages (from poetry<2.0.0,>=1.5.0->lifewatch-pypam==0.2.1) (1.5.3)\n",
      "Requirement already satisfied: tomli<3.0.0,>=2.0.1 in /opt/conda/lib/python3.10/site-packages (from poetry<2.0.0,>=1.5.0->lifewatch-pypam==0.2.1) (2.0.1)\n",
      "Requirement already satisfied: tomlkit<1.0.0,>=0.11.4 in /opt/conda/lib/python3.10/site-packages (from poetry<2.0.0,>=1.5.0->lifewatch-pypam==0.2.1) (0.12.1)\n",
      "Requirement already satisfied: trove-classifiers>=2022.5.19 in /opt/conda/lib/python3.10/site-packages (from poetry<2.0.0,>=1.5.0->lifewatch-pypam==0.2.1) (2023.10.18)\n",
      "Requirement already satisfied: virtualenv<21.0.0,>=20.22.0 in /opt/conda/lib/python3.10/site-packages (from poetry<2.0.0,>=1.5.0->lifewatch-pypam==0.2.1) (20.24.5)\n",
      "Requirement already satisfied: coverage<8.0.0,>=7.2.5 in /opt/conda/lib/python3.10/site-packages (from pyhydrophone<0.2.0,>=0.1.7->lifewatch-pypam==0.2.1) (7.3.2)\n",
      "Requirement already satisfied: pytest<8.0.0,>=7.3.1 in /opt/conda/lib/python3.10/site-packages (from pyhydrophone<0.2.0,>=0.1.7->lifewatch-pypam==0.2.1) (7.4.0)\n",
      "Requirement already satisfied: pytest-cov<5.0.0,>=4.1.0 in /opt/conda/lib/python3.10/site-packages (from pyhydrophone<0.2.0,>=0.1.7->lifewatch-pypam==0.2.1) (4.1.0)\n",
      "Requirement already satisfied: python-dotenv<2.0.0,>=1.0.0 in /opt/conda/lib/python3.10/site-packages (from pyhydrophone<0.2.0,>=0.1.7->lifewatch-pypam==0.2.1) (1.0.0)\n",
      "Requirement already satisfied: six>=1.5 in /opt/conda/lib/python3.10/site-packages (from python-dateutil<3.0.0,>=2.8.2->lifewatch-pypam==0.2.1) (1.15.0)\n",
      "Requirement already satisfied: joblib>=1.1.1 in /opt/conda/lib/python3.10/site-packages (from scikit-learn<2.0.0,>=1.2.2->lifewatch-pypam==0.2.1) (1.3.2)\n",
      "Requirement already satisfied: threadpoolctl>=2.0.0 in /opt/conda/lib/python3.10/site-packages (from scikit-learn<2.0.0,>=1.2.2->lifewatch-pypam==0.2.1) (3.2.0)\n",
      "Requirement already satisfied: scikit-image>=0.19 in /opt/conda/lib/python3.10/site-packages (from scikit-maad<2.0.0,>=1.4.0->lifewatch-pypam==0.2.1) (0.22.0)\n",
      "Requirement already satisfied: resampy>=0.4 in /opt/conda/lib/python3.10/site-packages (from scikit-maad<2.0.0,>=1.4.0->lifewatch-pypam==0.2.1) (0.4.2)\n",
      "Requirement already satisfied: colored<2.0.0,>=1.3.92 in /opt/conda/lib/python3.10/site-packages (from syrupy<5.0.0,>=4.0.4->lifewatch-pypam==0.2.1) (1.4.4)\n",
      "Requirement already satisfied: msgpack>=0.5.2 in /opt/conda/lib/python3.10/site-packages (from cachecontrol<0.14.0,>=0.13.0->cachecontrol[filecache]<0.14.0,>=0.13.0->poetry<2.0.0,>=1.5.0->lifewatch-pypam==0.2.1) (1.0.6)\n",
      "Requirement already satisfied: filelock>=3.8.0 in /opt/conda/lib/python3.10/site-packages (from cachecontrol[filecache]<0.14.0,>=0.13.0->poetry<2.0.0,>=1.5.0->lifewatch-pypam==0.2.1) (3.12.4)\n",
      "Requirement already satisfied: pycparser in /opt/conda/lib/python3.10/site-packages (from cffi>=1.12->cryptography<42.0.0,>=41.0.2->lifewatch-pypam==0.2.1) (2.21)\n",
      "Requirement already satisfied: rapidfuzz<3.0.0,>=2.2.0 in /opt/conda/lib/python3.10/site-packages (from cleo<3.0.0,>=2.0.0->poetry<2.0.0,>=1.5.0->lifewatch-pypam==0.2.1) (2.15.2)\n",
      "Requirement already satisfied: urllib3>=1.25 in /opt/conda/lib/python3.10/site-packages (from dulwich<0.22.0,>=0.21.2->poetry<2.0.0,>=1.5.0->lifewatch-pypam==0.2.1) (1.26.11)\n",
      "Requirement already satisfied: zipp>=0.5 in /opt/conda/lib/python3.10/site-packages (from importlib-metadata>=4.13.0->dask<2024.0.0,>=2023.9.3->lifewatch-pypam==0.2.1) (3.9.0)\n",
      "Requirement already satisfied: attrs>=17.4.0 in /opt/conda/lib/python3.10/site-packages (from jsonschema<4.18.0,>=4.10.0->poetry<2.0.0,>=1.5.0->lifewatch-pypam==0.2.1) (22.1.0)\n",
      "Requirement already satisfied: pyrsistent!=0.17.0,!=0.17.1,!=0.17.2,>=0.14.0 in /opt/conda/lib/python3.10/site-packages (from jsonschema<4.18.0,>=4.10.0->poetry<2.0.0,>=1.5.0->lifewatch-pypam==0.2.1) (0.18.1)\n",
      "Requirement already satisfied: jaraco.classes in /opt/conda/lib/python3.10/site-packages (from keyring<25.0.0,>=24.0.0->poetry<2.0.0,>=1.5.0->lifewatch-pypam==0.2.1) (3.3.0)\n",
      "Requirement already satisfied: SecretStorage>=3.2 in /opt/conda/lib/python3.10/site-packages (from keyring<25.0.0,>=24.0.0->poetry<2.0.0,>=1.5.0->lifewatch-pypam==0.2.1) (3.3.3)\n",
      "Requirement already satisfied: jeepney>=0.4.2 in /opt/conda/lib/python3.10/site-packages (from keyring<25.0.0,>=24.0.0->poetry<2.0.0,>=1.5.0->lifewatch-pypam==0.2.1) (0.8.0)\n",
      "Requirement already satisfied: locket in /opt/conda/lib/python3.10/site-packages (from partd>=1.2.0->dask<2024.0.0,>=2023.9.3->lifewatch-pypam==0.2.1) (1.0.0)\n",
      "Requirement already satisfied: ptyprocess>=0.5 in /opt/conda/lib/python3.10/site-packages (from pexpect<5.0.0,>=4.7.0->poetry<2.0.0,>=1.5.0->lifewatch-pypam==0.2.1) (0.7.0)\n",
      "Requirement already satisfied: iniconfig in /opt/conda/lib/python3.10/site-packages (from pytest<8.0.0,>=7.3.1->pyhydrophone<0.2.0,>=0.1.7->lifewatch-pypam==0.2.1) (2.0.0)\n",
      "Requirement already satisfied: pluggy<2.0,>=0.12 in /opt/conda/lib/python3.10/site-packages (from pytest<8.0.0,>=7.3.1->pyhydrophone<0.2.0,>=0.1.7->lifewatch-pypam==0.2.1) (1.3.0)\n",
      "Requirement already satisfied: exceptiongroup>=1.0.0rc8 in /opt/conda/lib/python3.10/site-packages (from pytest<8.0.0,>=7.3.1->pyhydrophone<0.2.0,>=0.1.7->lifewatch-pypam==0.2.1) (1.1.3)\n",
      "Requirement already satisfied: charset-normalizer<4,>=2 in /opt/conda/lib/python3.10/site-packages (from requests<3.0,>=2.26->poetry<2.0.0,>=1.5.0->lifewatch-pypam==0.2.1) (2.1.1)\n",
      "Requirement already satisfied: idna<4,>=2.5 in /opt/conda/lib/python3.10/site-packages (from requests<3.0,>=2.26->poetry<2.0.0,>=1.5.0->lifewatch-pypam==0.2.1) (3.4)\n",
      "Requirement already satisfied: networkx>=2.8 in /opt/conda/lib/python3.10/site-packages (from scikit-image>=0.19->scikit-maad<2.0.0,>=1.4.0->lifewatch-pypam==0.2.1) (3.2)\n",
      "Requirement already satisfied: imageio>=2.27 in /opt/conda/lib/python3.10/site-packages (from scikit-image>=0.19->scikit-maad<2.0.0,>=1.4.0->lifewatch-pypam==0.2.1) (2.31.5)\n",
      "Requirement already satisfied: tifffile>=2022.8.12 in /opt/conda/lib/python3.10/site-packages (from scikit-image>=0.19->scikit-maad<2.0.0,>=1.4.0->lifewatch-pypam==0.2.1) (2023.9.26)\n",
      "Requirement already satisfied: lazy_loader>=0.3 in /opt/conda/lib/python3.10/site-packages (from scikit-image>=0.19->scikit-maad<2.0.0,>=1.4.0->lifewatch-pypam==0.2.1) (0.3)\n",
      "Requirement already satisfied: distlib<1,>=0.3.7 in /opt/conda/lib/python3.10/site-packages (from virtualenv<21.0.0,>=20.22.0->poetry<2.0.0,>=1.5.0->lifewatch-pypam==0.2.1) (0.3.7)\n",
      "Requirement already satisfied: audioread>=2.1.9 in /opt/conda/lib/python3.10/site-packages (from librosa->noisereduce<3.0.0,>=2.0.1->lifewatch-pypam==0.2.1) (3.0.1)\n",
      "Requirement already satisfied: decorator>=4.3.0 in /opt/conda/lib/python3.10/site-packages (from librosa->noisereduce<3.0.0,>=2.0.1->lifewatch-pypam==0.2.1) (5.1.1)\n",
      "Requirement already satisfied: pooch>=1.0 in /opt/conda/lib/python3.10/site-packages (from librosa->noisereduce<3.0.0,>=2.0.1->lifewatch-pypam==0.2.1) (1.7.0)\n",
      "Requirement already satisfied: soxr>=0.3.2 in /opt/conda/lib/python3.10/site-packages (from librosa->noisereduce<3.0.0,>=2.0.1->lifewatch-pypam==0.2.1) (0.3.7)\n",
      "Requirement already satisfied: typing-extensions>=4.1.1 in /opt/conda/lib/python3.10/site-packages (from librosa->noisereduce<3.0.0,>=2.0.1->lifewatch-pypam==0.2.1) (4.4.0)\n",
      "Requirement already satisfied: more-itertools in /opt/conda/lib/python3.10/site-packages (from jaraco.classes->keyring<25.0.0,>=24.0.0->poetry<2.0.0,>=1.5.0->lifewatch-pypam==0.2.1) (10.1.0)\n",
      "Downloading cryptography-41.0.4-cp37-abi3-manylinux_2_28_x86_64.whl (4.4 MB)\n",
      "\u001b[2K   \u001b[90m━━━━━━━━━━━━━━━━━━━━━━━━━━━━━━━━━━━━━━━━\u001b[0m \u001b[32m4.4/4.4 MB\u001b[0m \u001b[31m58.7 MB/s\u001b[0m eta \u001b[36m0:00:00\u001b[0m00:01\u001b[0m00:01\u001b[0m\n",
      "\u001b[?25hInstalling collected packages: cryptography\n",
      "  Attempting uninstall: cryptography\n",
      "    Found existing installation: cryptography 38.0.1\n",
      "    Uninstalling cryptography-38.0.1:\n",
      "      Successfully uninstalled cryptography-38.0.1\n",
      "Successfully installed cryptography-41.0.4\n"
     ]
    }
   ],
   "source": [
    "!pip install -r requirements.txt --no-cache-dir\n",
    "!pip install --no-cache-dir git+https://github.com/lifewatch/pypam.git"
   ]
  },
  {
   "cell_type": "code",
   "execution_count": 9,
   "id": "54605247",
   "metadata": {
    "tags": []
   },
   "outputs": [
    {
     "name": "stdout",
     "output_type": "stream",
     "text": [
      "\u001b[1m============================= test session starts ==============================\u001b[0m\n",
      "platform linux -- Python 3.10.6, pytest-7.4.0, pluggy-1.3.0\n",
      "rootdir: /home/jovyan/mbari/pypam-based-processing\n",
      "plugins: anyio-3.6.1, syrupy-4.0.6, cov-4.1.0\n",
      "collected 8 items / 1 error                                                    \u001b[0m\u001b[1m\n",
      "\n",
      "==================================== ERRORS ====================================\n",
      "\u001b[31m\u001b[1m__________________ ERROR collecting tests/test_file_helper.py __________________\u001b[0m\n",
      "\u001b[1m\u001b[31m/opt/conda/lib/python3.10/site-packages/_pytest/runner.py\u001b[0m:341: in from_call\n",
      "    result: Optional[TResult] = func()\n",
      "\u001b[1m\u001b[31m/opt/conda/lib/python3.10/site-packages/_pytest/runner.py\u001b[0m:372: in <lambda>\n",
      "    call = CallInfo.from_call(\u001b[94mlambda\u001b[39;49;00m: \u001b[96mlist\u001b[39;49;00m(collector.collect()), \u001b[33m\"\u001b[39;49;00m\u001b[33mcollect\u001b[39;49;00m\u001b[33m\"\u001b[39;49;00m)\n",
      "\u001b[1m\u001b[31m/opt/conda/lib/python3.10/site-packages/_pytest/python.py\u001b[0m:531: in collect\n",
      "    \u001b[96mself\u001b[39;49;00m._inject_setup_module_fixture()\n",
      "\u001b[1m\u001b[31m/opt/conda/lib/python3.10/site-packages/_pytest/python.py\u001b[0m:545: in _inject_setup_module_fixture\n",
      "    \u001b[96mself\u001b[39;49;00m.obj, (\u001b[33m\"\u001b[39;49;00m\u001b[33msetUpModule\u001b[39;49;00m\u001b[33m\"\u001b[39;49;00m, \u001b[33m\"\u001b[39;49;00m\u001b[33msetup_module\u001b[39;49;00m\u001b[33m\"\u001b[39;49;00m)\n",
      "\u001b[1m\u001b[31m/opt/conda/lib/python3.10/site-packages/_pytest/python.py\u001b[0m:310: in obj\n",
      "    \u001b[96mself\u001b[39;49;00m._obj = obj = \u001b[96mself\u001b[39;49;00m._getobj()\n",
      "\u001b[1m\u001b[31m/opt/conda/lib/python3.10/site-packages/_pytest/python.py\u001b[0m:528: in _getobj\n",
      "    \u001b[94mreturn\u001b[39;49;00m \u001b[96mself\u001b[39;49;00m._importtestmodule()\n",
      "\u001b[1m\u001b[31m/opt/conda/lib/python3.10/site-packages/_pytest/python.py\u001b[0m:617: in _importtestmodule\n",
      "    mod = import_path(\u001b[96mself\u001b[39;49;00m.path, mode=importmode, root=\u001b[96mself\u001b[39;49;00m.config.rootpath)\n",
      "\u001b[1m\u001b[31m/opt/conda/lib/python3.10/site-packages/_pytest/pathlib.py\u001b[0m:565: in import_path\n",
      "    importlib.import_module(module_name)\n",
      "\u001b[1m\u001b[31m/opt/conda/lib/python3.10/importlib/__init__.py\u001b[0m:126: in import_module\n",
      "    \u001b[94mreturn\u001b[39;49;00m _bootstrap._gcd_import(name[level:], package, level)\n",
      "\u001b[1m\u001b[31m<frozen importlib._bootstrap>\u001b[0m:1050: in _gcd_import\n",
      "    \u001b[04m\u001b[91m?\u001b[39;49;00m\u001b[04m\u001b[91m?\u001b[39;49;00m\u001b[04m\u001b[91m?\u001b[39;49;00m\n",
      "\u001b[1m\u001b[31m<frozen importlib._bootstrap>\u001b[0m:1027: in _find_and_load\n",
      "    \u001b[04m\u001b[91m?\u001b[39;49;00m\u001b[04m\u001b[91m?\u001b[39;49;00m\u001b[04m\u001b[91m?\u001b[39;49;00m\n",
      "\u001b[1m\u001b[31m<frozen importlib._bootstrap>\u001b[0m:1006: in _find_and_load_unlocked\n",
      "    \u001b[04m\u001b[91m?\u001b[39;49;00m\u001b[04m\u001b[91m?\u001b[39;49;00m\u001b[04m\u001b[91m?\u001b[39;49;00m\n",
      "\u001b[1m\u001b[31m<frozen importlib._bootstrap>\u001b[0m:688: in _load_unlocked\n",
      "    \u001b[04m\u001b[91m?\u001b[39;49;00m\u001b[04m\u001b[91m?\u001b[39;49;00m\u001b[04m\u001b[91m?\u001b[39;49;00m\n",
      "\u001b[1m\u001b[31m/opt/conda/lib/python3.10/site-packages/_pytest/assertion/rewrite.py\u001b[0m:178: in exec_module\n",
      "    exec(co, module.\u001b[91m__dict__\u001b[39;49;00m)\n",
      "\u001b[1m\u001b[31mtests/test_file_helper.py\u001b[0m:3: in <module>\n",
      "    \u001b[94mfrom\u001b[39;49;00m \u001b[04m\u001b[96msrc\u001b[39;49;00m\u001b[04m\u001b[96m.\u001b[39;49;00m\u001b[04m\u001b[96mfile_helper\u001b[39;49;00m \u001b[94mimport\u001b[39;49;00m get_bucket_key_simple\n",
      "\u001b[1m\u001b[31msrc/file_helper.py\u001b[0m:11: in <module>\n",
      "    \u001b[94mfrom\u001b[39;49;00m \u001b[04m\u001b[96mbotocore\u001b[39;49;00m\u001b[04m\u001b[96m.\u001b[39;49;00m\u001b[04m\u001b[96mclient\u001b[39;49;00m \u001b[94mimport\u001b[39;49;00m BaseClient, ClientError\n",
      "\u001b[1m\u001b[31m/opt/conda/lib/python3.10/site-packages/botocore/client.py\u001b[0m:15: in <module>\n",
      "    \u001b[94mfrom\u001b[39;49;00m \u001b[04m\u001b[96mbotocore\u001b[39;49;00m \u001b[94mimport\u001b[39;49;00m waiter, xform_name\n",
      "\u001b[1m\u001b[31m/opt/conda/lib/python3.10/site-packages/botocore/waiter.py\u001b[0m:18: in <module>\n",
      "    \u001b[94mfrom\u001b[39;49;00m \u001b[04m\u001b[96mbotocore\u001b[39;49;00m\u001b[04m\u001b[96m.\u001b[39;49;00m\u001b[04m\u001b[96mdocs\u001b[39;49;00m\u001b[04m\u001b[96m.\u001b[39;49;00m\u001b[04m\u001b[96mdocstring\u001b[39;49;00m \u001b[94mimport\u001b[39;49;00m WaiterDocstring\n",
      "\u001b[1m\u001b[31m/opt/conda/lib/python3.10/site-packages/botocore/docs/__init__.py\u001b[0m:15: in <module>\n",
      "    \u001b[94mfrom\u001b[39;49;00m \u001b[04m\u001b[96mbotocore\u001b[39;49;00m\u001b[04m\u001b[96m.\u001b[39;49;00m\u001b[04m\u001b[96mdocs\u001b[39;49;00m\u001b[04m\u001b[96m.\u001b[39;49;00m\u001b[04m\u001b[96mservice\u001b[39;49;00m \u001b[94mimport\u001b[39;49;00m ServiceDocumenter\n",
      "\u001b[1m\u001b[31m/opt/conda/lib/python3.10/site-packages/botocore/docs/service.py\u001b[0m:14: in <module>\n",
      "    \u001b[94mfrom\u001b[39;49;00m \u001b[04m\u001b[96mbotocore\u001b[39;49;00m\u001b[04m\u001b[96m.\u001b[39;49;00m\u001b[04m\u001b[96mdocs\u001b[39;49;00m\u001b[04m\u001b[96m.\u001b[39;49;00m\u001b[04m\u001b[96mclient\u001b[39;49;00m \u001b[94mimport\u001b[39;49;00m ClientDocumenter, ClientExceptionsDocumenter\n",
      "\u001b[1m\u001b[31m/opt/conda/lib/python3.10/site-packages/botocore/docs/client.py\u001b[0m:17: in <module>\n",
      "    \u001b[94mfrom\u001b[39;49;00m \u001b[04m\u001b[96mbotocore\u001b[39;49;00m\u001b[04m\u001b[96m.\u001b[39;49;00m\u001b[04m\u001b[96mdocs\u001b[39;49;00m\u001b[04m\u001b[96m.\u001b[39;49;00m\u001b[04m\u001b[96mexample\u001b[39;49;00m \u001b[94mimport\u001b[39;49;00m ResponseExampleDocumenter\n",
      "\u001b[1m\u001b[31m/opt/conda/lib/python3.10/site-packages/botocore/docs/example.py\u001b[0m:13: in <module>\n",
      "    \u001b[94mfrom\u001b[39;49;00m \u001b[04m\u001b[96mbotocore\u001b[39;49;00m\u001b[04m\u001b[96m.\u001b[39;49;00m\u001b[04m\u001b[96mdocs\u001b[39;49;00m\u001b[04m\u001b[96m.\u001b[39;49;00m\u001b[04m\u001b[96mshape\u001b[39;49;00m \u001b[94mimport\u001b[39;49;00m ShapeDocumenter\n",
      "\u001b[1m\u001b[31m/opt/conda/lib/python3.10/site-packages/botocore/docs/shape.py\u001b[0m:19: in <module>\n",
      "    \u001b[94mfrom\u001b[39;49;00m \u001b[04m\u001b[96mbotocore\u001b[39;49;00m\u001b[04m\u001b[96m.\u001b[39;49;00m\u001b[04m\u001b[96mutils\u001b[39;49;00m \u001b[94mimport\u001b[39;49;00m is_json_value_header\n",
      "\u001b[1m\u001b[31m/opt/conda/lib/python3.10/site-packages/botocore/utils.py\u001b[0m:37: in <module>\n",
      "    \u001b[94mimport\u001b[39;49;00m \u001b[04m\u001b[96mbotocore\u001b[39;49;00m\u001b[04m\u001b[96m.\u001b[39;49;00m\u001b[04m\u001b[96mhttpsession\u001b[39;49;00m\n",
      "\u001b[1m\u001b[31m/opt/conda/lib/python3.10/site-packages/botocore/httpsession.py\u001b[0m:45: in <module>\n",
      "    \u001b[94mfrom\u001b[39;49;00m \u001b[04m\u001b[96murllib3\u001b[39;49;00m\u001b[04m\u001b[96m.\u001b[39;49;00m\u001b[04m\u001b[96mcontrib\u001b[39;49;00m\u001b[04m\u001b[96m.\u001b[39;49;00m\u001b[04m\u001b[96mpyopenssl\u001b[39;49;00m \u001b[94mimport\u001b[39;49;00m (\n",
      "\u001b[1m\u001b[31m/opt/conda/lib/python3.10/site-packages/urllib3/contrib/pyopenssl.py\u001b[0m:50: in <module>\n",
      "    \u001b[94mimport\u001b[39;49;00m \u001b[04m\u001b[96mOpenSSL\u001b[39;49;00m\u001b[04m\u001b[96m.\u001b[39;49;00m\u001b[04m\u001b[96mSSL\u001b[39;49;00m\n",
      "\u001b[1m\u001b[31m/opt/conda/lib/python3.10/site-packages/OpenSSL/__init__.py\u001b[0m:8: in <module>\n",
      "    \u001b[94mfrom\u001b[39;49;00m \u001b[04m\u001b[96mOpenSSL\u001b[39;49;00m \u001b[94mimport\u001b[39;49;00m crypto, SSL\n",
      "\u001b[1m\u001b[31m/opt/conda/lib/python3.10/site-packages/OpenSSL/crypto.py\u001b[0m:3268: in <module>\n",
      "    _lib.OpenSSL_add_all_algorithms()\n",
      "\u001b[1m\u001b[31mE   AttributeError: module 'lib' has no attribute 'OpenSSL_add_all_algorithms'\u001b[0m\n",
      "\u001b[36m\u001b[1m=========================== short test summary info ============================\u001b[0m\n",
      "\u001b[31mERROR\u001b[0m tests/test_file_helper.py - AttributeError: module 'lib' has no attribute 'OpenSSL_add_all_algorithms'\n",
      "!!!!!!!!!!!!!!!!!!!! Interrupted: 1 error during collection !!!!!!!!!!!!!!!!!!!!\n",
      "\u001b[31m=============================== \u001b[31m\u001b[1m1 error\u001b[0m\u001b[31m in 1.09s\u001b[0m\u001b[31m ===============================\u001b[0m\n"
     ]
    }
   ],
   "source": [
    "!python -m pytest "
   ]
  },
  {
   "cell_type": "markdown",
   "id": "6fe8dc4d-97c2-4e40-a4f7-845d7e716855",
   "metadata": {},
   "source": [
    "## Workspace preparations"
   ]
  },
  {
   "cell_type": "code",
   "execution_count": 13,
   "id": "d9f38450-5afd-44e8-a55e-9a3861c61fce",
   "metadata": {},
   "outputs": [
    {
     "name": "stdout",
     "output_type": "stream",
     "text": [
      "total 8\n",
      "drwxr-x--- 2 root users 4096 Oct 20 12:17 DOWNLOADS\n",
      "drwxr-x--- 3 root users   18 Oct 20 12:11 JSON\n",
      "drwxr-x--- 3 root users 4096 Oct 20 12:17 OUTPUT\n",
      "HOME=/home/jovyan\n"
     ]
    }
   ],
   "source": [
    "## Our input files for the demo were copied and located here:\n",
    "!ls -l ~/shared/readonly/data/mbari/pypam-based-processing/NB_SPACE/\n",
    "!echo \"HOME=$HOME\""
   ]
  },
  {
   "cell_type": "code",
   "execution_count": 7,
   "id": "4e432e0f-6628-4796-8398-2f2a14d2a2d2",
   "metadata": {},
   "outputs": [],
   "source": [
    "## so, a convenient definition we will use to instruct PBP where to get the input files from:\n",
    "NB_SPACE = '/home/jovyan/shared/readonly/data/mbari/pypam-based-processing/NB_SPACE'"
   ]
  },
  {
   "cell_type": "markdown",
   "id": "9fb10e07-b1dd-4a18-979c-1289730746fa",
   "metadata": {},
   "source": [
    "## Imports"
   ]
  },
  {
   "cell_type": "code",
   "execution_count": 14,
   "id": "27c1c775-5d74-45f7-be76-e82c1d35286e",
   "metadata": {},
   "outputs": [],
   "source": [
    "import logging\n",
    "import os\n",
    "import sys\n",
    "import xarray as xr\n",
    "import numpy as np\n",
    "import dask\n",
    "import time"
   ]
  },
  {
   "cell_type": "code",
   "execution_count": 1,
   "id": "7db17f66-c1a3-4b1a-a637-7af37eefe32a",
   "metadata": {},
   "outputs": [
    {
     "ename": "NameError",
     "evalue": "name 'sys' is not defined",
     "output_type": "error",
     "traceback": [
      "\u001b[0;31m---------------------------------------------------------------------------\u001b[0m",
      "\u001b[0;31mNameError\u001b[0m                                 Traceback (most recent call last)",
      "Cell \u001b[0;32mIn [1], line 1\u001b[0m\n\u001b[0;32m----> 1\u001b[0m sys\u001b[38;5;241m.\u001b[39mpath \u001b[38;5;241m=\u001b[39m [\u001b[38;5;124m'\u001b[39m\u001b[38;5;124m.\u001b[39m\u001b[38;5;124m'\u001b[39m] \u001b[38;5;241m+\u001b[39m \u001b[43msys\u001b[49m\u001b[38;5;241m.\u001b[39mpath\n\u001b[1;32m      2\u001b[0m \u001b[38;5;28;01mfrom\u001b[39;00m \u001b[38;5;21;01msrc\u001b[39;00m\u001b[38;5;21;01m.\u001b[39;00m\u001b[38;5;21;01mprocess_helper\u001b[39;00m \u001b[38;5;28;01mimport\u001b[39;00m ProcessHelper\n\u001b[1;32m      3\u001b[0m \u001b[38;5;28;01mfrom\u001b[39;00m \u001b[38;5;21;01msrc\u001b[39;00m\u001b[38;5;21;01m.\u001b[39;00m\u001b[38;5;21;01mfile_helper\u001b[39;00m \u001b[38;5;28;01mimport\u001b[39;00m FileHelper\n",
      "\u001b[0;31mNameError\u001b[0m: name 'sys' is not defined"
     ]
    }
   ],
   "source": [
    "sys.path = ['.'] + sys.path\n",
    "from src.process_helper import ProcessHelper\n",
    "from src.file_helper import FileHelper\n",
    "from src.logging_helper import create_logger\n",
    "\n"
   ]
  },
  {
   "cell_type": "code",
   "execution_count": null,
   "id": "6058bd01",
   "metadata": {
    "tags": []
   },
   "outputs": [],
   "source": [
    "\n",
    "\n",
    "## NOTE: The needed files are already downloaded for this demo,\n",
    "## but still use the associated S3 URIs.\n",
    "import boto3\n",
    "from botocore import UNSIGNED\n",
    "from botocore.client import Config\n"
   ]
  },
  {
   "cell_type": "markdown",
   "id": "421e4acf-b060-40d3-9009-f6c94d1e0d84",
   "metadata": {},
   "source": [
    "## A function to process a given day"
   ]
  },
  {
   "cell_type": "code",
   "execution_count": 22,
   "id": "9d440360",
   "metadata": {
    "tags": []
   },
   "outputs": [],
   "source": [
    "def process_date(date: str):\n",
    "    \"\"\"\n",
    "    Main function to generate the HMB product for a given day.\n",
    "\n",
    "    It makes use of supporting elements in PBP in terms of logging,\n",
    "    file handling, and PyPAM based HMB generation.\n",
    "\n",
    "    :param date: Date to process in YYYYMMDD format.\n",
    "    :return: the generated xarray dataset.\n",
    "    \"\"\"\n",
    "\n",
    "    output_dir             = f'NB_OUTPUT'\n",
    "    output_prefix          = 'MB05_'\n",
    "\n",
    "    log_filename = f\"{output_dir}/{output_prefix}{date}.log\"\n",
    "\n",
    "    logger = create_logger(\n",
    "        log_filename_and_level=(log_filename, logging.INFO),\n",
    "        console_level=None,  # logging.INFO,\n",
    "    )\n",
    "\n",
    "    ## Note: we use S3 URIS and boto as general mechanism to get our files from AWS.\n",
    "    ## In this notebook, we have already downloaded the necessary files for the demonstration.\n",
    "    ## The settings below allow us to still continue using the original S3 URIs without\n",
    "    ## triggering any new downloads.\n",
    "    s3_client = boto3.client(\"s3\", config=Config(signature_version=UNSIGNED))\n",
    "    ## In our general cloud-based setup, downloaded files are removed after been used.\n",
    "    ## The following allows us to keep the downloaded files:\n",
    "    os.environ[\"ASSUME_DOWNLOADED_FILES\"] = \"yes\"\n",
    "    os.environ[\"REMOVE_DOWNLOADED_FILES\"] = \"no\"\n",
    "\n",
    "    file_helper = FileHelper(\n",
    "        logger=logger,\n",
    "        json_base_dir     = f'{NB_SPACE}/JSON',\n",
    "        s3_client         = s3_client,\n",
    "        download_dir      = f'{NB_SPACE}/DOWNLOADS',\n",
    "    )\n",
    "\n",
    "    process_helper = ProcessHelper(\n",
    "        logger=logger,\n",
    "        file_helper=file_helper,\n",
    "        output_dir             = output_dir,\n",
    "        output_prefix          = output_prefix,\n",
    "        global_attrs_uri       = 'metadata/mb05/globalAttributes_MB05.yaml',\n",
    "        variable_attrs_uri     = 'metadata/mb05/variableAttributes_MB05.yaml',\n",
    "        voltage_multiplier     = 1,\n",
    "        sensitivity_flat_value = 176,\n",
    "        subset_to              = (10, 24_000),\n",
    "    )\n",
    "\n",
    "    ## For reporting purposes below (we know this will be the generated NetCDF path)\n",
    "    nc_filename = f\"{output_dir}/{output_prefix}{date}.nc\"\n",
    "\n",
    "    ## now, get the HMB result:\n",
    "    print(f'::: Started processing {date=}    {log_filename=}')\n",
    "    result = process_helper.process_day(date)\n",
    "    print(f':::   Ended processing {date=} =>  {nc_filename=}')\n",
    "\n",
    "    if result is not None:\n",
    "        return result.dataset\n",
    "    else:\n",
    "        print(f'::: UNEXPECTED: no segments were processed for {date=}')"
   ]
  },
  {
   "cell_type": "markdown",
   "id": "71cee960-d5e4-4574-8dd3-f5f30d772869",
   "metadata": {
    "tags": []
   },
   "source": [
    "## Generating the HMB products"
   ]
  },
  {
   "cell_type": "markdown",
   "id": "e8c33ce9-61ed-4169-a976-cb721d472565",
   "metadata": {},
   "source": [
    "### Processing a day"
   ]
  },
  {
   "cell_type": "code",
   "execution_count": null,
   "id": "99d7252d-45e2-46e8-9379-f072d5d674c5",
   "metadata": {
    "tags": []
   },
   "outputs": [],
   "source": [
    "start_time = time.time()\n",
    "\n",
    "generated_dataset = process_date('20220812')\n",
    "\n",
    "elapsed_time = time.time() - start_time\n",
    "print(f'===> date completed. Elapsed time: {elapsed_time:.1f} seconds ({elapsed_time/60:.1f} mins)')\n",
    "generated_dataset"
   ]
  },
  {
   "cell_type": "markdown",
   "id": "46ac16db-da76-4478-a89c-7d89ee900dc4",
   "metadata": {},
   "source": [
    "### Prepare process_date for parallel execution\n",
    "\n",
    "Let's use Dask to dispatch multiple instances of `process_date` in parallel."
   ]
  },
  {
   "cell_type": "code",
   "execution_count": 13,
   "id": "60f44066-3383-4a9c-aa0f-493a1fb1e357",
   "metadata": {
    "tags": []
   },
   "outputs": [
    {
     "name": "stdout",
     "output_type": "stream",
     "text": [
      "CPU info: os.cpu_count()=80  len(os.sched_getaffinity(0))=80\n"
     ]
    }
   ],
   "source": [
    "print(f'CPU info: {os.cpu_count()=}  {len(os.sched_getaffinity(0))=}')"
   ]
  },
  {
   "cell_type": "code",
   "execution_count": 15,
   "id": "9f820f99-e302-475d-b858-bb5dc806c8c1",
   "metadata": {
    "tags": []
   },
   "outputs": [],
   "source": [
    "def process_multiple_dates(dates: list[str]) -> list[xr.Dataset]:\n",
    "    \"\"\"\n",
    "    Generates HMB for multiple days in parallel using Dask.\n",
    "    Returns the resulting HMB datasets.\n",
    "    \"\"\"\n",
    "\n",
    "    @dask.delayed\n",
    "    def delayed_process_date(date: str):\n",
    "        return process_date(date)\n",
    "\n",
    "    ## To display total elapsed time at the end the processing:\n",
    "    start_time = time.time()\n",
    "\n",
    "    ## This will be called by Dask when all dates have completed processing:\n",
    "    def aggregate(*datasets) -> list[xr.Dataset]:\n",
    "        elapsed_time = time.time() - start_time\n",
    "        print(f'===> All {len(datasets)} dates completed. Elapsed time: {elapsed_time:.1f} seconds ({elapsed_time/60:.1f} mins)')\n",
    "        return datasets\n",
    "\n",
    "\n",
    "    ## Prepare the processes:\n",
    "    delayed_processes = [delayed_process_date(date) for date in dates]\n",
    "    aggregation = dask.delayed(aggregate)(*delayed_processes)\n",
    "\n",
    "    ## And launch them:\n",
    "    return aggregation.compute()\n"
   ]
  },
  {
   "cell_type": "markdown",
   "id": "567e2ffd-6f67-425c-bd2f-dfbd5dd702e9",
   "metadata": {},
   "source": [
    "### Processing multiple days"
   ]
  },
  {
   "cell_type": "code",
   "execution_count": 11,
   "id": "c85cf420",
   "metadata": {
    "tags": []
   },
   "outputs": [
    {
     "name": "stdout",
     "output_type": "stream",
     "text": [
      "::: Started processing date='20220815'    log_filename='NB_SPACE/OUTPUT/MB05_20220815.log'\n",
      "::: Started processing date='20220812'    log_filename='NB_SPACE/OUTPUT/MB05_20220812.log'\n",
      "::: Started processing date='20220816'    log_filename='NB_SPACE/OUTPUT/MB05_20220816.log'\n",
      "::: Started processing date='20220813'    log_filename='NB_SPACE/OUTPUT/MB05_20220813.log'\n",
      "::: Started processing date='20220814'    log_filename='NB_SPACE/OUTPUT/MB05_20220814.log'\n",
      ":::   Ended processing date='20220814' =>  nc_filename='NB_SPACE/OUTPUT/MB05_20220814.nc'\n",
      ":::   Ended processing date='20220812' =>  nc_filename='NB_SPACE/OUTPUT/MB05_20220812.nc'\n",
      ":::   Ended processing date='20220815' =>  nc_filename='NB_SPACE/OUTPUT/MB05_20220815.nc'\n",
      ":::   Ended processing date='20220813' =>  nc_filename='NB_SPACE/OUTPUT/MB05_20220813.nc'\n",
      ":::   Ended processing date='20220816' =>  nc_filename='NB_SPACE/OUTPUT/MB05_20220816.nc'\n",
      "===> All dates completed. Elapsed time: 271.3 seconds (4.5 mins)\n",
      "Generated datasets: 5\n"
     ]
    }
   ],
   "source": [
    "## The dates for this demo:\n",
    "dates = ['20220812', '20220813','20220814', '20220815', '20220816']\n",
    "\n",
    "generated_datasets = process_multiple_dates(dates)\n",
    "\n",
    "print(f'Generated datasets: {len(generated_datasets)}')\n"
   ]
  },
  {
   "cell_type": "markdown",
   "id": "1941ac70-64d5-41dd-a9a1-df972e8f37c7",
   "metadata": {},
   "source": [
    "# NOTE: A \"quick\" test with 10 days to see performance scalability\n",
    "\n",
    "Not repeating the exercise below, but we got about 40 secs per day:\n",
    "```\n",
    "===> All dates completed. Elapsed time: 402.5 seconds (6.7 mins)\n",
    "Generated datasets: 10\n",
    "```"
   ]
  },
  {
   "cell_type": "code",
   "execution_count": 14,
   "id": "ffa32ea4-6dd5-4a8f-b58a-22f3139b09c6",
   "metadata": {
    "tags": []
   },
   "outputs": [
    {
     "name": "stdout",
     "output_type": "stream",
     "text": [
      "::: Started processing date='20220819'    log_filename='NB_SPACE/OUTPUT/MB05_20220819.log'\n",
      "::: Started processing date='20220813'    log_filename='NB_SPACE/OUTPUT/MB05_20220813.log'\n",
      "::: Started processing date='20220818'    log_filename='NB_SPACE/OUTPUT/MB05_20220818.log'\n",
      "::: Started processing date='20220812'    log_filename='NB_SPACE/OUTPUT/MB05_20220812.log'\n",
      "::: Started processing date='20220821'    log_filename='NB_SPACE/OUTPUT/MB05_20220821.log'\n",
      "::: Started processing date='20220814'    log_filename='NB_SPACE/OUTPUT/MB05_20220814.log'\n",
      "::: Started processing date='20220817'    log_filename='NB_SPACE/OUTPUT/MB05_20220817.log'::: Started processing date='20220816'    log_filename='NB_SPACE/OUTPUT/MB05_20220816.log'\n",
      "\n",
      "::: Started processing date='20220815'    log_filename='NB_SPACE/OUTPUT/MB05_20220815.log'\n",
      "::: Started processing date='20220820'    log_filename='NB_SPACE/OUTPUT/MB05_20220820.log'\n",
      ":::   Ended processing date='20220821' =>  nc_filename='NB_SPACE/OUTPUT/MB05_20220821.nc'\n",
      ":::   Ended processing date='20220813' =>  nc_filename='NB_SPACE/OUTPUT/MB05_20220813.nc'\n",
      ":::   Ended processing date='20220820' =>  nc_filename='NB_SPACE/OUTPUT/MB05_20220820.nc'\n",
      ":::   Ended processing date='20220816' =>  nc_filename='NB_SPACE/OUTPUT/MB05_20220816.nc'\n",
      ":::   Ended processing date='20220817' =>  nc_filename='NB_SPACE/OUTPUT/MB05_20220817.nc'\n",
      ":::   Ended processing date='20220815' =>  nc_filename='NB_SPACE/OUTPUT/MB05_20220815.nc'\n",
      ":::   Ended processing date='20220814' =>  nc_filename='NB_SPACE/OUTPUT/MB05_20220814.nc'\n",
      ":::   Ended processing date='20220818' =>  nc_filename='NB_SPACE/OUTPUT/MB05_20220818.nc'\n",
      ":::   Ended processing date='20220812' =>  nc_filename='NB_SPACE/OUTPUT/MB05_20220812.nc'\n",
      ":::   Ended processing date='20220819' =>  nc_filename='NB_SPACE/OUTPUT/MB05_20220819.nc'\n",
      "===> All dates completed. Elapsed time: 295.8 seconds (4.9 mins)\n",
      "Generated datasets: 10\n"
     ]
    }
   ],
   "source": [
    "## 10 days:  20220812 .. 20220821\n",
    "datetimes = np.arange('2022-08-12', '2022-08-22', dtype='datetime64[D]')\n",
    "dates = [str(d).replace('-', '') for d in datetimes]\n",
    "\n",
    "generated_datasets = process_multiple_dates(dates)\n",
    "\n",
    "print(f'Generated datasets: {len(generated_datasets)}')\n"
   ]
  },
  {
   "cell_type": "code",
   "execution_count": null,
   "id": "507e7d0f-222e-4b7d-a751-d2ff660d2ceb",
   "metadata": {},
   "outputs": [],
   "source": []
  }
 ],
 "metadata": {
  "kernelspec": {
   "display_name": "Python 3 (ipykernel)",
   "language": "python",
   "name": "python3"
  },
  "language_info": {
   "codemirror_mode": {
    "name": "ipython",
    "version": 3
   },
   "file_extension": ".py",
   "mimetype": "text/x-python",
   "name": "python",
   "nbconvert_exporter": "python",
   "pygments_lexer": "ipython3",
   "version": "3.10.6"
  }
 },
 "nbformat": 4,
 "nbformat_minor": 5
}
