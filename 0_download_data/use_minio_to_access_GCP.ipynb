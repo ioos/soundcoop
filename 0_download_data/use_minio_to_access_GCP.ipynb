{
 "cells": [
  {
   "cell_type": "markdown",
   "id": "9ddf4116-9fa6-40a6-b7ce-643e7243791e",
   "metadata": {},
   "source": [
    "You don't need to run the installation when on mybinder, this has been taken care for you"
   ]
  },
  {
   "cell_type": "code",
   "execution_count": 31,
   "id": "baaaf0f2",
   "metadata": {},
   "outputs": [
    {
     "name": "stdout",
     "output_type": "stream",
     "text": [
      "Requirement already satisfied: minio in /opt/conda/envs/py39/lib/python3.9/site-packages (7.1.16)\n",
      "Requirement already satisfied: urllib3 in /opt/conda/envs/py39/lib/python3.9/site-packages (from minio) (1.26.10)\n",
      "Requirement already satisfied: certifi in /opt/conda/envs/py39/lib/python3.9/site-packages (from minio) (2022.6.15)\n",
      "\u001b[33mWARNING: Running pip as the 'root' user can result in broken permissions and conflicting behaviour with the system package manager. It is recommended to use a virtual environment instead: https://pip.pypa.io/warnings/venv\u001b[0m\u001b[33m\n",
      "\u001b[0m"
     ]
    }
   ],
   "source": [
    "!pip install minio"
   ]
  },
  {
   "cell_type": "code",
   "execution_count": 32,
   "id": "f7d6c790",
   "metadata": {
    "scrolled": true
   },
   "outputs": [],
   "source": [
    "from minio import Minio\n",
    "import re\n",
    "from pathlib import Path\n",
    "import os"
   ]
  },
  {
   "cell_type": "code",
   "execution_count": null,
   "id": "ad19b2af-1aff-4aa0-b7c6-6dff0e20bf66",
   "metadata": {},
   "outputs": [],
   "source": [
    "# First we create a function to download data \n",
    "def download_data_station(station_name, \n",
    "                          client_obj, \n",
    "                          bucket_str, \n",
    "                          prefix_str, \n",
    "                          data_path,\n",
    "                          name_format,\n",
    "                          start_datetime, \n",
    "                          end_datetime):\n",
    "    start_datetime_obj = datetime.fromisoformat(start_datetime) \n",
    "    end_datetime_obj = datetime.fromisoformat(end_datetime)\n",
    "    station_folder = pathlib.Path(data_path).joinpath(station_name)\n",
    "    if not station_folder.exists():\n",
    "        os.mkdir(station_folder)\n",
    "    objects = list(client_obj.list_objects(bucket_str, prefix=prefix_str))\n",
    "    ct = 0\n",
    "    for i, obj in enumerate(objects):\n",
    "        object_name = obj.object_name\n",
    "        path_name = pathlib.Path(object_name).name\n",
    "        if (not path_name.startswith('.')) & path_name.endswith('.nc'):\n",
    "            match = re.findall(r\"_(\\d+)\", path_name)[-1]\n",
    "            file_date = datetime.strptime(match, name_format)\n",
    "            if (file_date >= start_datetime_obj) & (file_date <= end_datetime_obj):\n",
    "                download_path = data_path + '/' + station_name + '/' + pathlib.Path(object_name).name\n",
    "                if os.path.isfile(download_path):\n",
    "                    print('Already downloaded: ' + download_path)\n",
    "                else:\n",
    "                    print('Download ' + str(ct) + ' of ' + str(len(objects)) + ': ' + download_path)\n",
    "                    object_data = client.get_object(bucket, object_name)\n",
    "                    if not os.path.isdir(download_path):\n",
    "                        with open(str(download_path), 'wb') as file_data:\n",
    "                            for data in object_data:\n",
    "                                file_data.write(data)\n",
    "                    file_data.close()\n",
    "            else: \n",
    "                print('Ignored, out of selected period or not a netCDF file ' + path_name)\n",
    "        ct += 1"
   ]
  },
  {
   "cell_type": "code",
   "execution_count": null,
   "id": "59614216-eec4-448f-88ae-9e058bcb88a5",
   "metadata": {},
   "outputs": [],
   "source": [
    "# Set the download local path\n",
    "local_path = '../data/'"
   ]
  },
  {
   "cell_type": "code",
   "execution_count": 73,
   "id": "b93de997",
   "metadata": {},
   "outputs": [],
   "source": [
    "# Set up the download for NRS11 data \n",
    "client = minio.Minio('storage.googleapis.com')\n",
    "bucket = 'noaa-passive-bioacoustic'\n",
    "station = 'NRS11'\n",
    "prefix = 'soundcoop/%s/' % station\n",
    "name_format = 'NRS11_H5R6.1.5000_%Y%m%d_DAILY_MILLIDEC_MinRes_v2.nc'\n",
    "download_data_station(station, client, bucket, prefix, local_path, name_format=name_format, start_datetime=start_date_time, end_datetime=end_date_time)"
   ]
  }
 ],
 "metadata": {
  "kernelspec": {
   "display_name": "Python 3 (ipykernel)",
   "language": "python",
   "name": "python3"
  },
  "language_info": {
   "codemirror_mode": {
    "name": "ipython",
    "version": 3
   },
   "file_extension": ".py",
   "mimetype": "text/x-python",
   "name": "python",
   "nbconvert_exporter": "python",
   "pygments_lexer": "ipython3",
   "version": "3.11.9"
  }
 },
 "nbformat": 4,
 "nbformat_minor": 5
}
