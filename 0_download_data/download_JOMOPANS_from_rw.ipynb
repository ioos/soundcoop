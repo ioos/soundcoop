{
 "cells": [
  {
   "cell_type": "code",
   "execution_count": null,
   "metadata": {},
   "outputs": [],
   "source": [
    "import requests\n",
    "\n",
    "basepath = \"https://researchworkspace.com/files\"\n",
    "\n",
    "def return_response(loc):\n",
    "\n",
    "    # Make a GET request to the website\n",
    "    response = requests.get(loc)\n",
    "\n",
    "    # Parse the response as JSON\n",
    "    data = response.json()\n",
    "\n",
    "    return data\n",
    "\n",
    "def find_paths(project_id, folder_id, start):\n",
    "    \"\"\"Gets list of files from RW, in chunks.\"\"\"\n",
    "    \n",
    "    loc = f\"https://researchworkspace.com/project/{project_id}/folder/{folder_id}.table?start={start}&sort=fileName&dir=asc\"\n",
    "    data = return_response(loc)\n",
    "    paths = [f\"{basepath}/{entry['id']}/{entry['fileName']}\" for entry in data]\n",
    "    return paths"
   ]
  },
  {
   "cell_type": "code",
   "execution_count": null,
   "metadata": {},
   "outputs": [],
   "source": [
    "# know both of these from the file directory structure\n",
    "project_id = \"43095617\"\n",
    "folder_ids = [\"43095619\"]\n",
    "\n",
    "count = 0  # start number\n",
    "dcount = 50  # number per call/page\n",
    "\n",
    "for folder_id in folder_ids:\n",
    "\n",
    "    # initial paths to compare to (first 50)\n",
    "    paths = new_paths = find_paths(project_id, folder_id, 0)\n",
    "\n",
    "    # loop over more paths in case there are more than 50\n",
    "    while len(new_paths) > 0:\n",
    "        count += dcount\n",
    "        new_paths = find_paths(project_id, folder_id, count)\n",
    "        paths.extend(new_paths)\n",
    "\n",
    "paths\n"
   ]
  },
  {
   "cell_type": "markdown",
   "metadata": {},
   "source": [
    "Once you have the names of the files you can use `wget` to download them:"
   ]
  },
  {
   "cell_type": "code",
   "execution_count": null,
   "metadata": {},
   "outputs": [],
   "source": [
    "for path in paths:\n",
    "    \n",
    "    print(path)\n",
    "    \n",
    "    # use wget, a common open-source tool for downloading files over https (https://www.gnu.org/software/wget/)\n",
    "    # note that you can use the command wget -q {url} to suppress all the output\n",
    "    #update ./download/JOMOPANS/ with the path to a folder where you want the files to be saved\n",
    "\n",
    "    ! wget {path} -P ./download/JOMOPANS/\n"
   ]
  },
  {
   "cell_type": "code",
   "execution_count": null,
   "metadata": {},
   "outputs": [],
   "source": []
  }
 ],
 "metadata": {
  "kernelspec": {
   "display_name": "Python 3 (ipykernel)",
   "language": "python",
   "name": "python3"
  },
  "language_info": {
   "codemirror_mode": {
    "name": "ipython",
    "version": 3
   },
   "file_extension": ".py",
   "mimetype": "text/x-python",
   "name": "python",
   "nbconvert_exporter": "python",
   "pygments_lexer": "ipython3",
   "version": "3.11.9"
  }
 },
 "nbformat": 4,
 "nbformat_minor": 4
}
