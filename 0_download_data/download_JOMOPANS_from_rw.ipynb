{
 "cells": [
  {
   "cell_type": "code",
   "execution_count": 1,
   "metadata": {},
   "outputs": [],
   "source": [
    "import requests\n",
    "\n",
    "basepath = \"https://researchworkspace.com/files\"\n",
    "\n",
    "def return_response(loc):\n",
    "\n",
    "    # Make a GET request to the website\n",
    "    response = requests.get(loc)\n",
    "\n",
    "    # Parse the response as JSON\n",
    "    data = response.json()\n",
    "\n",
    "    return data\n",
    "\n",
    "def find_paths(project_id, folder_id, start):\n",
    "    \"\"\"Gets list of files from RW, in chunks.\"\"\"\n",
    "    \n",
    "    loc = f\"https://researchworkspace.com/project/{project_id}/folder/{folder_id}.table?start={start}&sort=fileName&dir=asc\"\n",
    "    data = return_response(loc)\n",
    "    paths = [f\"{basepath}/{entry['id']}/{entry['fileName']}\" for entry in data]\n",
    "    return paths"
   ]
  },
  {
   "cell_type": "code",
   "execution_count": 2,
   "metadata": {},
   "outputs": [
    {
     "data": {
      "text/plain": [
       "['https://researchworkspace.com/files/43096983/3514_DOW_2019_01_pt1.nc',\n",
       " 'https://researchworkspace.com/files/43096984/3515_DOW_2019_01_pt2.nc',\n",
       " 'https://researchworkspace.com/files/43096985/3516_DOW_2019_02.nc',\n",
       " 'https://researchworkspace.com/files/43096989/3518_DOW_2019_03.nc',\n",
       " 'https://researchworkspace.com/files/43096992/3519_DOW_2019_04.nc',\n",
       " 'https://researchworkspace.com/files/43096993/3520_DOW_2019_05.nc',\n",
       " 'https://researchworkspace.com/files/43096994/3521_DOW_2019_08.nc',\n",
       " 'https://researchworkspace.com/files/43096995/3522_DOW_2019_09.nc',\n",
       " 'https://researchworkspace.com/files/43096996/3523_DOW_2019_10.nc',\n",
       " 'https://researchworkspace.com/files/43096997/3525_DOW_2019_11_pt1.nc',\n",
       " 'https://researchworkspace.com/files/43096998/3526_DOW_2019_12.nc',\n",
       " 'https://researchworkspace.com/files/43096999/3529_DOW_2020_01.nc',\n",
       " 'https://researchworkspace.com/files/43097000/3532_DOW_2020_02_pt1.nc',\n",
       " 'https://researchworkspace.com/files/43097001/3533_DOW_2020_02_pt2.nc',\n",
       " 'https://researchworkspace.com/files/43097006/3534_DOW_2020_03.nc',\n",
       " 'https://researchworkspace.com/files/43097009/3535_DOW_2020_04.nc',\n",
       " 'https://researchworkspace.com/files/43097011/3536_DOW_2020_05.nc',\n",
       " 'https://researchworkspace.com/files/43097016/3537_DOW_2020_06.nc',\n",
       " 'https://researchworkspace.com/files/43097018/3538_DOW_2020_07.nc',\n",
       " 'https://researchworkspace.com/files/43097021/3539_DOW_2020_08.nc',\n",
       " 'https://researchworkspace.com/files/43097022/3540_DOW_2020_09_pt1.nc',\n",
       " 'https://researchworkspace.com/files/43097026/3541_DOW_2020_09_pt2.nc',\n",
       " 'https://researchworkspace.com/files/43097027/3544_DOW_2020_10.nc',\n",
       " 'https://researchworkspace.com/files/43097028/3545_DOW_2020_11_pt1.nc',\n",
       " 'https://researchworkspace.com/files/43097029/3546_DOW_2020_11_pt2.nc',\n",
       " 'https://researchworkspace.com/files/43097030/3547_DOW_2020_12.nc']"
      ]
     },
     "execution_count": 2,
     "metadata": {},
     "output_type": "execute_result"
    }
   ],
   "source": [
    "# know both of these from the file directory structure\n",
    "project_id = \"43095617\"\n",
    "folder_ids = [\"43095619\"]\n",
    "\n",
    "count = 0  # start number\n",
    "dcount = 50  # number per call/page\n",
    "\n",
    "for folder_id in folder_ids:\n",
    "\n",
    "    # initial paths to compare to (first 50)\n",
    "    paths = new_paths = find_paths(project_id, folder_id, 0)\n",
    "\n",
    "    # loop over more paths in case there are more than 50\n",
    "    while len(new_paths) > 0:\n",
    "        count += dcount\n",
    "        new_paths = find_paths(project_id, folder_id, count)\n",
    "        paths.extend(new_paths)\n",
    "\n",
    "paths\n"
   ]
  },
  {
   "cell_type": "markdown",
   "metadata": {},
   "source": [
    "Once you have the names of the files you can use `wget` to download them:"
   ]
  },
  {
   "cell_type": "code",
   "execution_count": null,
   "metadata": {},
   "outputs": [
    {
     "name": "stdout",
     "output_type": "stream",
     "text": [
      "https://researchworkspace.com/files/43096983/3514_DOW_2019_01_pt1.nc\n",
      "--2024-07-26 21:04:57--  https://researchworkspace.com/files/43096983/3514_DOW_2019_01_pt1.nc\n",
      "Resolving researchworkspace.com (researchworkspace.com)... 216.218.248.41\n",
      "Connecting to researchworkspace.com (researchworkspace.com)|216.218.248.41|:443... connected.\n",
      "HTTP request sent, awaiting response... 200 OK\n",
      "Length: 313161993 (299M) [application/x-netcdf]\n",
      "Saving to: ‘./download/JOMOPANS/3514_DOW_2019_01_pt1.nc’\n",
      "\n",
      "3514_DOW_2019_01_pt   5%[>                   ]  17.37M  2.77MB/s    eta 1m 41s "
     ]
    }
   ],
   "source": [
    "for path in paths:\n",
    "    \n",
    "    print(path)\n",
    "    \n",
    "    # use wget, a common open-source tool for downloading files over https (https://www.gnu.org/software/wget/)\n",
    "    # note that you can use the command wget -q {url} to suppress all the output\n",
    "    #update ./download/JOMOPANS/ with the path to a folder where you want the files to be saved\n",
    "\n",
    "    ! wget {path} -P ./download/JOMOPANS/\n"
   ]
  },
  {
   "cell_type": "code",
   "execution_count": null,
   "metadata": {},
   "outputs": [],
   "source": []
  }
 ],
 "metadata": {
  "kernelspec": {
   "display_name": "Python 3 (ipykernel)",
   "language": "python",
   "name": "python3"
  },
  "language_info": {
   "codemirror_mode": {
    "name": "ipython",
    "version": 3
   },
   "file_extension": ".py",
   "mimetype": "text/x-python",
   "name": "python",
   "nbconvert_exporter": "python",
   "pygments_lexer": "ipython3",
   "version": "3.9.13"
  }
 },
 "nbformat": 4,
 "nbformat_minor": 4
}